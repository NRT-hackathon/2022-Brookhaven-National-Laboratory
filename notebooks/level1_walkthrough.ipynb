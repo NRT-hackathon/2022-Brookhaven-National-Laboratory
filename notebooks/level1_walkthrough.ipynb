{
  "nbformat": 4,
  "nbformat_minor": 0,
  "metadata": {
    "colab": {
      "name": "ML_course_training_notebook_Shizhao.ipynb",
      "provenance": [],
      "collapsed_sections": [],
      "machine_shape": "hm",
      "include_colab_link": true
    },
    "kernelspec": {
      "display_name": "Python 3",
      "language": "python",
      "name": "python3"
    },
    "language_info": {
      "codemirror_mode": {
        "name": "ipython",
        "version": 3
      },
      "file_extension": ".py",
      "mimetype": "text/x-python",
      "name": "python",
      "nbconvert_exporter": "python",
      "pygments_lexer": "ipython3",
      "version": "3.7.1"
    },
    "accelerator": "GPU"
  },
  "cells": [
    {
      "cell_type": "markdown",
      "metadata": {
        "id": "view-in-github",
        "colab_type": "text"
      },
      "source": [
        "<a href=\"https://colab.research.google.com/github/evanmacbride/microscope-autofocus/blob/main/notebooks/level1_walkthrough.ipynb\" target=\"_parent\"><img src=\"https://colab.research.google.com/assets/colab-badge.svg\" alt=\"Open In Colab\"/></a>"
      ]
    },
    {
      "cell_type": "markdown",
      "metadata": {
        "id": "LMp5lKNjgBXq"
      },
      "source": [
        "## Initial setup"
      ]
    },
    {
      "cell_type": "code",
      "metadata": {
        "colab": {
          "base_uri": "https://localhost:8080/"
        },
        "id": "CDVgw5FnT6Hc",
        "outputId": "6cae3539-2389-4ada-a2bb-c974687e1b3d"
      },
      "source": [
        "from google.colab import drive\n",
        "drive.mount('/content/drive')"
      ],
      "execution_count": null,
      "outputs": [
        {
          "output_type": "stream",
          "name": "stdout",
          "text": [
            "Mounted at /content/drive\n"
          ]
        }
      ]
    },
    {
      "cell_type": "code",
      "metadata": {
        "colab": {
          "base_uri": "https://localhost:8080/"
        },
        "id": "lIYdn1woOS1n",
        "outputId": "e1b62c75-68dc-4849-e39f-795f2976045c"
      },
      "source": [
        "import tensorflow as tf\n",
        "print(tf.__version__)\n",
        "# tensorflow version used is 2.8.0\n",
        "import torch\n",
        "print(torch.__version__)\n",
        "# torch version used is 1.10+cu111"
      ],
      "execution_count": null,
      "outputs": [
        {
          "output_type": "stream",
          "name": "stdout",
          "text": [
            "2.8.0\n",
            "1.10.0+cu111\n"
          ]
        }
      ]
    },
    {
      "cell_type": "code",
      "metadata": {
        "colab": {
          "base_uri": "https://localhost:8080/"
        },
        "id": "dZowsDvOYK37",
        "outputId": "239c49a8-6b1c-4528-b3ac-b7a3569c68b5"
      },
      "source": [
        "!nvidia-smi"
      ],
      "execution_count": null,
      "outputs": [
        {
          "output_type": "stream",
          "name": "stdout",
          "text": [
            "Sun Mar 20 16:57:53 2022       \n",
            "+-----------------------------------------------------------------------------+\n",
            "| NVIDIA-SMI 460.32.03    Driver Version: 460.32.03    CUDA Version: 11.2     |\n",
            "|-------------------------------+----------------------+----------------------+\n",
            "| GPU  Name        Persistence-M| Bus-Id        Disp.A | Volatile Uncorr. ECC |\n",
            "| Fan  Temp  Perf  Pwr:Usage/Cap|         Memory-Usage | GPU-Util  Compute M. |\n",
            "|                               |                      |               MIG M. |\n",
            "|===============================+======================+======================|\n",
            "|   0  Tesla T4            Off  | 00000000:00:04.0 Off |                    0 |\n",
            "| N/A   47C    P8    10W /  70W |      0MiB / 15109MiB |      0%      Default |\n",
            "|                               |                      |                  N/A |\n",
            "+-------------------------------+----------------------+----------------------+\n",
            "                                                                               \n",
            "+-----------------------------------------------------------------------------+\n",
            "| Processes:                                                                  |\n",
            "|  GPU   GI   CI        PID   Type   Process name                  GPU Memory |\n",
            "|        ID   ID                                                   Usage      |\n",
            "|=============================================================================|\n",
            "|  No running processes found                                                 |\n",
            "+-----------------------------------------------------------------------------+\n"
          ]
        }
      ]
    },
    {
      "cell_type": "code",
      "metadata": {
        "colab": {
          "base_uri": "https://localhost:8080/"
        },
        "id": "421MrJNMYQD7",
        "outputId": "cea7d1ec-af4a-4953-f5d4-b4c76f1aa365"
      },
      "source": [
        "# Other imports\n",
        "! pip install tensorflow_addons\n",
        "! pip install tensorflow_io\n",
        "! pip install lightgbm\n",
        "! pip install xgboost\n",
        "! pip install catboost\n",
        "\n",
        "import os\n",
        "from tensorflow.keras.layers import *\n",
        "from tensorflow.keras.models import *\n",
        "from tensorflow import keras as tfkeras\n",
        "import matplotlib.pyplot as plt\n",
        "from imutils import paths\n",
        "from tqdm import tqdm\n",
        "import tensorflow as tf\n",
        "import tensorflow_addons as tfa\n",
        "import tensorflow_datasets as tfds\n",
        "import tensorflow_io as tfio\n",
        "import tensorflow_hub as hub\n",
        "import numpy as np\n",
        "import cv2\n",
        "import pandas as pd\n",
        "from sklearn.preprocessing import LabelEncoder\n",
        "from sklearn.cluster import KMeans\n",
        "from sklearn.metrics.pairwise import cosine_similarity as cos\n",
        "from sympy.utilities.iterables import multiset_permutations\n",
        "from sklearn.metrics import accuracy_score, f1_score, confusion_matrix, mean_absolute_error, r2_score\n",
        "from sklearn.model_selection import *\n",
        "from IPython.display import Image, display\n",
        "from scipy import ndimage\n",
        "\n",
        "from xgboost import XGBRegressor as xgb\n",
        "from sklearn.ensemble import ExtraTreesRegressor as extratree\n",
        "from sklearn.ensemble import RandomForestRegressor as randomforest\n",
        "from sklearn.svm import NuSVR as svr\n",
        "from sklearn.gaussian_process import GaussianProcessRegressor as gpr\n",
        "from sklearn.ensemble import AdaBoostRegressor as ada\n",
        "from sklearn.tree import DecisionTreeRegressor as tree\n",
        "from sklearn.ensemble import GradientBoostingRegressor as gdb\n",
        "from sklearn.neural_network import MLPRegressor as mlp\n",
        "from sklearn.experimental import enable_hist_gradient_boosting\n",
        "from sklearn.ensemble import HistGradientBoostingRegressor as hgb\n",
        "from lightgbm import LGBMRegressor as lgb\n",
        "from catboost import CatBoostRegressor as cgb\n",
        "from sklearn.ensemble import StackingRegressor as stk\n",
        "from sklearn.linear_model import RidgeCV\n",
        "from sklearn.model_selection import cross_validate, cross_val_predict\n",
        "from sklearn.ensemble import VotingRegressor as vot\n",
        "\n",
        "import zipfile\n",
        "import concurrent.futures\n",
        "\n",
        "# Random seed fix\n",
        "random_seed = 42\n",
        "tf.random.set_seed(random_seed)\n",
        "np.random.seed(random_seed)"
      ],
      "execution_count": null,
      "outputs": [
        {
          "output_type": "stream",
          "name": "stdout",
          "text": [
            "Collecting tensorflow_addons\n",
            "  Downloading tensorflow_addons-0.16.1-cp37-cp37m-manylinux_2_12_x86_64.manylinux2010_x86_64.whl (1.1 MB)\n",
            "\u001b[?25l\r\u001b[K     |▎                               | 10 kB 26.8 MB/s eta 0:00:01\r\u001b[K     |▋                               | 20 kB 9.0 MB/s eta 0:00:01\r\u001b[K     |▉                               | 30 kB 7.8 MB/s eta 0:00:01\r\u001b[K     |█▏                              | 40 kB 3.6 MB/s eta 0:00:01\r\u001b[K     |█▌                              | 51 kB 3.6 MB/s eta 0:00:01\r\u001b[K     |█▊                              | 61 kB 4.3 MB/s eta 0:00:01\r\u001b[K     |██                              | 71 kB 4.5 MB/s eta 0:00:01\r\u001b[K     |██▍                             | 81 kB 4.8 MB/s eta 0:00:01\r\u001b[K     |██▋                             | 92 kB 5.3 MB/s eta 0:00:01\r\u001b[K     |███                             | 102 kB 4.3 MB/s eta 0:00:01\r\u001b[K     |███▏                            | 112 kB 4.3 MB/s eta 0:00:01\r\u001b[K     |███▌                            | 122 kB 4.3 MB/s eta 0:00:01\r\u001b[K     |███▉                            | 133 kB 4.3 MB/s eta 0:00:01\r\u001b[K     |████                            | 143 kB 4.3 MB/s eta 0:00:01\r\u001b[K     |████▍                           | 153 kB 4.3 MB/s eta 0:00:01\r\u001b[K     |████▊                           | 163 kB 4.3 MB/s eta 0:00:01\r\u001b[K     |█████                           | 174 kB 4.3 MB/s eta 0:00:01\r\u001b[K     |█████▎                          | 184 kB 4.3 MB/s eta 0:00:01\r\u001b[K     |█████▌                          | 194 kB 4.3 MB/s eta 0:00:01\r\u001b[K     |█████▉                          | 204 kB 4.3 MB/s eta 0:00:01\r\u001b[K     |██████▏                         | 215 kB 4.3 MB/s eta 0:00:01\r\u001b[K     |██████▍                         | 225 kB 4.3 MB/s eta 0:00:01\r\u001b[K     |██████▊                         | 235 kB 4.3 MB/s eta 0:00:01\r\u001b[K     |███████                         | 245 kB 4.3 MB/s eta 0:00:01\r\u001b[K     |███████▎                        | 256 kB 4.3 MB/s eta 0:00:01\r\u001b[K     |███████▋                        | 266 kB 4.3 MB/s eta 0:00:01\r\u001b[K     |███████▉                        | 276 kB 4.3 MB/s eta 0:00:01\r\u001b[K     |████████▏                       | 286 kB 4.3 MB/s eta 0:00:01\r\u001b[K     |████████▌                       | 296 kB 4.3 MB/s eta 0:00:01\r\u001b[K     |████████▊                       | 307 kB 4.3 MB/s eta 0:00:01\r\u001b[K     |█████████                       | 317 kB 4.3 MB/s eta 0:00:01\r\u001b[K     |█████████▍                      | 327 kB 4.3 MB/s eta 0:00:01\r\u001b[K     |█████████▋                      | 337 kB 4.3 MB/s eta 0:00:01\r\u001b[K     |██████████                      | 348 kB 4.3 MB/s eta 0:00:01\r\u001b[K     |██████████▏                     | 358 kB 4.3 MB/s eta 0:00:01\r\u001b[K     |██████████▌                     | 368 kB 4.3 MB/s eta 0:00:01\r\u001b[K     |██████████▉                     | 378 kB 4.3 MB/s eta 0:00:01\r\u001b[K     |███████████                     | 389 kB 4.3 MB/s eta 0:00:01\r\u001b[K     |███████████▍                    | 399 kB 4.3 MB/s eta 0:00:01\r\u001b[K     |███████████▊                    | 409 kB 4.3 MB/s eta 0:00:01\r\u001b[K     |████████████                    | 419 kB 4.3 MB/s eta 0:00:01\r\u001b[K     |████████████▎                   | 430 kB 4.3 MB/s eta 0:00:01\r\u001b[K     |████████████▌                   | 440 kB 4.3 MB/s eta 0:00:01\r\u001b[K     |████████████▉                   | 450 kB 4.3 MB/s eta 0:00:01\r\u001b[K     |█████████████▏                  | 460 kB 4.3 MB/s eta 0:00:01\r\u001b[K     |█████████████▍                  | 471 kB 4.3 MB/s eta 0:00:01\r\u001b[K     |█████████████▊                  | 481 kB 4.3 MB/s eta 0:00:01\r\u001b[K     |██████████████                  | 491 kB 4.3 MB/s eta 0:00:01\r\u001b[K     |██████████████▎                 | 501 kB 4.3 MB/s eta 0:00:01\r\u001b[K     |██████████████▋                 | 512 kB 4.3 MB/s eta 0:00:01\r\u001b[K     |██████████████▉                 | 522 kB 4.3 MB/s eta 0:00:01\r\u001b[K     |███████████████▏                | 532 kB 4.3 MB/s eta 0:00:01\r\u001b[K     |███████████████▌                | 542 kB 4.3 MB/s eta 0:00:01\r\u001b[K     |███████████████▊                | 552 kB 4.3 MB/s eta 0:00:01\r\u001b[K     |████████████████                | 563 kB 4.3 MB/s eta 0:00:01\r\u001b[K     |████████████████▍               | 573 kB 4.3 MB/s eta 0:00:01\r\u001b[K     |████████████████▋               | 583 kB 4.3 MB/s eta 0:00:01\r\u001b[K     |█████████████████               | 593 kB 4.3 MB/s eta 0:00:01\r\u001b[K     |█████████████████▏              | 604 kB 4.3 MB/s eta 0:00:01\r\u001b[K     |█████████████████▌              | 614 kB 4.3 MB/s eta 0:00:01\r\u001b[K     |█████████████████▉              | 624 kB 4.3 MB/s eta 0:00:01\r\u001b[K     |██████████████████              | 634 kB 4.3 MB/s eta 0:00:01\r\u001b[K     |██████████████████▍             | 645 kB 4.3 MB/s eta 0:00:01\r\u001b[K     |██████████████████▊             | 655 kB 4.3 MB/s eta 0:00:01\r\u001b[K     |███████████████████             | 665 kB 4.3 MB/s eta 0:00:01\r\u001b[K     |███████████████████▎            | 675 kB 4.3 MB/s eta 0:00:01\r\u001b[K     |███████████████████▌            | 686 kB 4.3 MB/s eta 0:00:01\r\u001b[K     |███████████████████▉            | 696 kB 4.3 MB/s eta 0:00:01\r\u001b[K     |████████████████████▏           | 706 kB 4.3 MB/s eta 0:00:01\r\u001b[K     |████████████████████▍           | 716 kB 4.3 MB/s eta 0:00:01\r\u001b[K     |████████████████████▊           | 727 kB 4.3 MB/s eta 0:00:01\r\u001b[K     |█████████████████████           | 737 kB 4.3 MB/s eta 0:00:01\r\u001b[K     |█████████████████████▎          | 747 kB 4.3 MB/s eta 0:00:01\r\u001b[K     |█████████████████████▋          | 757 kB 4.3 MB/s eta 0:00:01\r\u001b[K     |█████████████████████▉          | 768 kB 4.3 MB/s eta 0:00:01\r\u001b[K     |██████████████████████▏         | 778 kB 4.3 MB/s eta 0:00:01\r\u001b[K     |██████████████████████▌         | 788 kB 4.3 MB/s eta 0:00:01\r\u001b[K     |██████████████████████▊         | 798 kB 4.3 MB/s eta 0:00:01\r\u001b[K     |███████████████████████         | 808 kB 4.3 MB/s eta 0:00:01\r\u001b[K     |███████████████████████▍        | 819 kB 4.3 MB/s eta 0:00:01\r\u001b[K     |███████████████████████▋        | 829 kB 4.3 MB/s eta 0:00:01\r\u001b[K     |████████████████████████        | 839 kB 4.3 MB/s eta 0:00:01\r\u001b[K     |████████████████████████▏       | 849 kB 4.3 MB/s eta 0:00:01\r\u001b[K     |████████████████████████▌       | 860 kB 4.3 MB/s eta 0:00:01\r\u001b[K     |████████████████████████▉       | 870 kB 4.3 MB/s eta 0:00:01\r\u001b[K     |█████████████████████████       | 880 kB 4.3 MB/s eta 0:00:01\r\u001b[K     |█████████████████████████▍      | 890 kB 4.3 MB/s eta 0:00:01\r\u001b[K     |█████████████████████████▊      | 901 kB 4.3 MB/s eta 0:00:01\r\u001b[K     |██████████████████████████      | 911 kB 4.3 MB/s eta 0:00:01\r\u001b[K     |██████████████████████████▎     | 921 kB 4.3 MB/s eta 0:00:01\r\u001b[K     |██████████████████████████▌     | 931 kB 4.3 MB/s eta 0:00:01\r\u001b[K     |██████████████████████████▉     | 942 kB 4.3 MB/s eta 0:00:01\r\u001b[K     |███████████████████████████▏    | 952 kB 4.3 MB/s eta 0:00:01\r\u001b[K     |███████████████████████████▍    | 962 kB 4.3 MB/s eta 0:00:01\r\u001b[K     |███████████████████████████▊    | 972 kB 4.3 MB/s eta 0:00:01\r\u001b[K     |████████████████████████████    | 983 kB 4.3 MB/s eta 0:00:01\r\u001b[K     |████████████████████████████▎   | 993 kB 4.3 MB/s eta 0:00:01\r\u001b[K     |████████████████████████████▋   | 1.0 MB 4.3 MB/s eta 0:00:01\r\u001b[K     |████████████████████████████▉   | 1.0 MB 4.3 MB/s eta 0:00:01\r\u001b[K     |█████████████████████████████▏  | 1.0 MB 4.3 MB/s eta 0:00:01\r\u001b[K     |█████████████████████████████▌  | 1.0 MB 4.3 MB/s eta 0:00:01\r\u001b[K     |█████████████████████████████▊  | 1.0 MB 4.3 MB/s eta 0:00:01\r\u001b[K     |██████████████████████████████  | 1.1 MB 4.3 MB/s eta 0:00:01\r\u001b[K     |██████████████████████████████▍ | 1.1 MB 4.3 MB/s eta 0:00:01\r\u001b[K     |██████████████████████████████▋ | 1.1 MB 4.3 MB/s eta 0:00:01\r\u001b[K     |███████████████████████████████ | 1.1 MB 4.3 MB/s eta 0:00:01\r\u001b[K     |███████████████████████████████▏| 1.1 MB 4.3 MB/s eta 0:00:01\r\u001b[K     |███████████████████████████████▌| 1.1 MB 4.3 MB/s eta 0:00:01\r\u001b[K     |███████████████████████████████▉| 1.1 MB 4.3 MB/s eta 0:00:01\r\u001b[K     |████████████████████████████████| 1.1 MB 4.3 MB/s \n",
            "\u001b[?25hRequirement already satisfied: typeguard>=2.7 in /usr/local/lib/python3.7/dist-packages (from tensorflow_addons) (2.7.1)\n",
            "Installing collected packages: tensorflow-addons\n",
            "Successfully installed tensorflow-addons-0.16.1\n",
            "Collecting tensorflow_io\n",
            "  Downloading tensorflow_io-0.24.0-cp37-cp37m-manylinux_2_12_x86_64.manylinux2010_x86_64.whl (23.4 MB)\n",
            "\u001b[K     |████████████████████████████████| 23.4 MB 1.7 MB/s \n",
            "\u001b[?25hRequirement already satisfied: tensorflow-io-gcs-filesystem==0.24.0 in /usr/local/lib/python3.7/dist-packages (from tensorflow_io) (0.24.0)\n",
            "Installing collected packages: tensorflow-io\n",
            "Successfully installed tensorflow-io-0.24.0\n",
            "Requirement already satisfied: lightgbm in /usr/local/lib/python3.7/dist-packages (2.2.3)\n",
            "Requirement already satisfied: scikit-learn in /usr/local/lib/python3.7/dist-packages (from lightgbm) (1.0.2)\n",
            "Requirement already satisfied: numpy in /usr/local/lib/python3.7/dist-packages (from lightgbm) (1.21.5)\n",
            "Requirement already satisfied: scipy in /usr/local/lib/python3.7/dist-packages (from lightgbm) (1.4.1)\n",
            "Requirement already satisfied: joblib>=0.11 in /usr/local/lib/python3.7/dist-packages (from scikit-learn->lightgbm) (1.1.0)\n",
            "Requirement already satisfied: threadpoolctl>=2.0.0 in /usr/local/lib/python3.7/dist-packages (from scikit-learn->lightgbm) (3.1.0)\n",
            "Requirement already satisfied: xgboost in /usr/local/lib/python3.7/dist-packages (0.90)\n",
            "Requirement already satisfied: numpy in /usr/local/lib/python3.7/dist-packages (from xgboost) (1.21.5)\n",
            "Requirement already satisfied: scipy in /usr/local/lib/python3.7/dist-packages (from xgboost) (1.4.1)\n",
            "Collecting catboost\n",
            "  Downloading catboost-1.0.4-cp37-none-manylinux1_x86_64.whl (76.1 MB)\n",
            "\u001b[K     |████████████████████████████████| 76.1 MB 1.3 MB/s \n",
            "\u001b[?25hRequirement already satisfied: graphviz in /usr/local/lib/python3.7/dist-packages (from catboost) (0.10.1)\n",
            "Requirement already satisfied: matplotlib in /usr/local/lib/python3.7/dist-packages (from catboost) (3.2.2)\n",
            "Requirement already satisfied: pandas>=0.24.0 in /usr/local/lib/python3.7/dist-packages (from catboost) (1.3.5)\n",
            "Requirement already satisfied: numpy>=1.16.0 in /usr/local/lib/python3.7/dist-packages (from catboost) (1.21.5)\n",
            "Requirement already satisfied: scipy in /usr/local/lib/python3.7/dist-packages (from catboost) (1.4.1)\n",
            "Requirement already satisfied: six in /usr/local/lib/python3.7/dist-packages (from catboost) (1.15.0)\n",
            "Requirement already satisfied: plotly in /usr/local/lib/python3.7/dist-packages (from catboost) (5.5.0)\n",
            "Requirement already satisfied: pytz>=2017.3 in /usr/local/lib/python3.7/dist-packages (from pandas>=0.24.0->catboost) (2018.9)\n",
            "Requirement already satisfied: python-dateutil>=2.7.3 in /usr/local/lib/python3.7/dist-packages (from pandas>=0.24.0->catboost) (2.8.2)\n",
            "Requirement already satisfied: cycler>=0.10 in /usr/local/lib/python3.7/dist-packages (from matplotlib->catboost) (0.11.0)\n",
            "Requirement already satisfied: pyparsing!=2.0.4,!=2.1.2,!=2.1.6,>=2.0.1 in /usr/local/lib/python3.7/dist-packages (from matplotlib->catboost) (3.0.7)\n",
            "Requirement already satisfied: kiwisolver>=1.0.1 in /usr/local/lib/python3.7/dist-packages (from matplotlib->catboost) (1.4.0)\n",
            "Requirement already satisfied: typing-extensions in /usr/local/lib/python3.7/dist-packages (from kiwisolver>=1.0.1->matplotlib->catboost) (3.10.0.2)\n",
            "Requirement already satisfied: tenacity>=6.2.0 in /usr/local/lib/python3.7/dist-packages (from plotly->catboost) (8.0.1)\n",
            "Installing collected packages: catboost\n",
            "Successfully installed catboost-1.0.4\n"
          ]
        },
        {
          "output_type": "stream",
          "name": "stderr",
          "text": [
            "/usr/local/lib/python3.7/dist-packages/sklearn/experimental/enable_hist_gradient_boosting.py:17: UserWarning: Since version 1.0, it is not needed to import enable_hist_gradient_boosting anymore. HistGradientBoostingClassifier and HistGradientBoostingRegressor are now stable and can be normally imported from sklearn.ensemble.\n",
            "  \"Since version 1.0, \"\n"
          ]
        }
      ]
    },
    {
      "cell_type": "markdown",
      "source": [
        "## Data utility, only need to use once to preprocess tiff images to png format"
      ],
      "metadata": {
        "id": "7HGHsLxUDFBs"
      }
    },
    {
      "cell_type": "code",
      "metadata": {
        "id": "4gBvGSTyWVal",
        "colab": {
          "base_uri": "https://localhost:8080/"
        },
        "outputId": "17ed9763-ed1e-4e47-e8fa-14fe67a0ff3e"
      },
      "source": [
        "%%time\n",
        "zf = zipfile.ZipFile('/content/drive/MyDrive/ML course 2022/rawImages.zip')\n",
        "def unzip(file):\n",
        "    zf.extract(file)\n",
        "with concurrent.futures.ProcessPoolExecutor() as executor:\n",
        "    executor.map(unzip, zf.infolist())"
      ],
      "execution_count": null,
      "outputs": [
        {
          "output_type": "stream",
          "name": "stdout",
          "text": [
            "CPU times: user 14 s, sys: 1.32 s, total: 15.3 s\n",
            "Wall time: 5min 4s\n"
          ]
        }
      ]
    },
    {
      "cell_type": "code",
      "source": [
        "drive.flush_and_unmount()"
      ],
      "metadata": {
        "id": "w2_bOmSTXBWJ"
      },
      "execution_count": null,
      "outputs": []
    },
    {
      "cell_type": "code",
      "source": [
        "for i in range(len(level1_images_train)):\n",
        "  img = cv2.imread(level1_images_train[i])\n",
        "  if img is None:\n",
        "    continue\n",
        "  img = cv2.imread(level1_images_train[i])\n",
        "  cv2.imwrite('/content/drive/MyDrive/ML course 2022_Team BNL/level1/%s.jpeg' %level1_images_train[i].split('/')[-1][:-5], img)"
      ],
      "metadata": {
        "id": "ZI-UkeGLhNAJ"
      },
      "execution_count": null,
      "outputs": []
    },
    {
      "cell_type": "code",
      "source": [
        "import shutil\n",
        "for i in range(len(level1_images_train)):\n",
        "  shutil.copy(level1_images_train[i], \"/content/drive/MyDrive/ML course 2022_Team BNL/level1_png/%s\" %level1_images_train[i].split(\"/\")[-1])"
      ],
      "metadata": {
        "id": "6rPFHrr7PYJt"
      },
      "execution_count": null,
      "outputs": []
    },
    {
      "cell_type": "code",
      "source": [
        "# the snippet that I use to create the jpegs of the high pass filtered images\n",
        "pixel_std_values = np.zeros((len(train_images_directory_select)))\n",
        "for i in range(train_images_directory_select.shape[0]):\n",
        "    im = cv2.imread(train_images_directory_select[i])                                                       # high pass filter then grayscale then standard deviation of all pixel values\n",
        "    high_pass_image = cv2.cvtColor(im - ndimage.gaussian_filter(im, 13), cv2.COLOR_BGR2GRAY)\n",
        "    # pixel_std_values[i] = np.std(high_pass_image)\n",
        "    cv2.imwrite('/content/drive/MyDrive/ML course 2022_Team BNL/level1_jpeg/%s.jpeg' %train_images_directory_select[i].split('/')[-1][:-5], high_pass_image)\n",
        "# plt.scatter(labels, pixel_std_values)\n",
        "# plt.xlabel('true_focal_distance')\n",
        "# plt.ylabel('std value')"
      ],
      "metadata": {
        "colab": {
          "base_uri": "https://localhost:8080/",
          "height": 234
        },
        "id": "IDRwnLu2M-7p",
        "outputId": "f932e7e6-c83a-41bc-c26e-d0dec500d797"
      },
      "execution_count": null,
      "outputs": [
        {
          "output_type": "error",
          "ename": "TypeError",
          "evalue": "ignored",
          "traceback": [
            "\u001b[0;31m---------------------------------------------------------------------------\u001b[0m",
            "\u001b[0;31mTypeError\u001b[0m                                 Traceback (most recent call last)",
            "\u001b[0;32m<ipython-input-79-f2827e01b9e1>\u001b[0m in \u001b[0;36m<module>\u001b[0;34m()\u001b[0m\n\u001b[1;32m      2\u001b[0m \u001b[0;32mfor\u001b[0m \u001b[0mi\u001b[0m \u001b[0;32min\u001b[0m \u001b[0mrange\u001b[0m\u001b[0;34m(\u001b[0m\u001b[0mtrain_images_directory_select\u001b[0m\u001b[0;34m.\u001b[0m\u001b[0mshape\u001b[0m\u001b[0;34m[\u001b[0m\u001b[0;36m0\u001b[0m\u001b[0;34m]\u001b[0m\u001b[0;34m)\u001b[0m\u001b[0;34m:\u001b[0m\u001b[0;34m\u001b[0m\u001b[0;34m\u001b[0m\u001b[0m\n\u001b[1;32m      3\u001b[0m     \u001b[0mim\u001b[0m \u001b[0;34m=\u001b[0m \u001b[0mcv2\u001b[0m\u001b[0;34m.\u001b[0m\u001b[0mimread\u001b[0m\u001b[0;34m(\u001b[0m\u001b[0mtrain_images_directory_select\u001b[0m\u001b[0;34m[\u001b[0m\u001b[0mi\u001b[0m\u001b[0;34m]\u001b[0m\u001b[0;34m)\u001b[0m\u001b[0;34m\u001b[0m\u001b[0;34m\u001b[0m\u001b[0m\n\u001b[0;32m----> 4\u001b[0;31m     \u001b[0mpixel_std_values\u001b[0m\u001b[0;34m[\u001b[0m\u001b[0mi\u001b[0m\u001b[0;34m]\u001b[0m \u001b[0;34m=\u001b[0m \u001b[0mnp\u001b[0m\u001b[0;34m.\u001b[0m\u001b[0mstd\u001b[0m\u001b[0;34m(\u001b[0m\u001b[0mcv2\u001b[0m\u001b[0;34m.\u001b[0m\u001b[0mcvtColor\u001b[0m\u001b[0;34m(\u001b[0m\u001b[0mim\u001b[0m \u001b[0;34m-\u001b[0m \u001b[0mndimage\u001b[0m\u001b[0;34m.\u001b[0m\u001b[0mgaussian_filter\u001b[0m\u001b[0;34m(\u001b[0m\u001b[0mim\u001b[0m\u001b[0;34m,\u001b[0m \u001b[0;36m13\u001b[0m\u001b[0;34m)\u001b[0m\u001b[0;34m,\u001b[0m \u001b[0mcv2\u001b[0m\u001b[0;34m.\u001b[0m\u001b[0mCOLOR_BGR2GRAY\u001b[0m\u001b[0;34m)\u001b[0m\u001b[0;34m)\u001b[0m\u001b[0;34m\u001b[0m\u001b[0;34m\u001b[0m\u001b[0m\n\u001b[0m\u001b[1;32m      5\u001b[0m \u001b[0mplt\u001b[0m\u001b[0;34m.\u001b[0m\u001b[0mscatter\u001b[0m\u001b[0;34m(\u001b[0m\u001b[0mlabels\u001b[0m\u001b[0;34m,\u001b[0m \u001b[0mpixel_std_values\u001b[0m\u001b[0;34m)\u001b[0m\u001b[0;34m\u001b[0m\u001b[0;34m\u001b[0m\u001b[0m\n\u001b[1;32m      6\u001b[0m \u001b[0mplt\u001b[0m\u001b[0;34m.\u001b[0m\u001b[0mxlabel\u001b[0m\u001b[0;34m(\u001b[0m\u001b[0;34m'true_distance'\u001b[0m\u001b[0;34m)\u001b[0m\u001b[0;34m\u001b[0m\u001b[0;34m\u001b[0m\u001b[0m\n",
            "\u001b[0;31mTypeError\u001b[0m: unsupported operand type(s) for -: 'NoneType' and 'NoneType'"
          ]
        }
      ]
    },
    {
      "cell_type": "markdown",
      "metadata": {
        "id": "UUFlGxuJgBX9"
      },
      "source": [
        "## Dataset gathering and preparation"
      ]
    },
    {
      "cell_type": "code",
      "source": [
        "%cd /content/drive/MyDrive/ML\\ course\\ 2022_Team\\ BNL"
      ],
      "metadata": {
        "colab": {
          "base_uri": "https://localhost:8080/"
        },
        "id": "FI3eYn0fSoLO",
        "outputId": "b573d78f-e1d6-4628-be45-71288aea828e"
      },
      "execution_count": null,
      "outputs": [
        {
          "output_type": "stream",
          "name": "stdout",
          "text": [
            "/content/drive/MyDrive/ML course 2022_Team BNL\n"
          ]
        }
      ]
    },
    {
      "cell_type": "code",
      "metadata": {
        "id": "NA5y9EDOx5Lo"
      },
      "source": [
        "training_batch_size = 1\n",
        "test_batch_size = 1\n",
        "\n",
        "imageSizeheight=1200\n",
        "imageSizewidth=1920\n",
        "\n",
        "# imageSizeheight=300\n",
        "# imageSizewidth=480"
      ],
      "execution_count": null,
      "outputs": []
    },
    {
      "cell_type": "code",
      "source": [
        "# Image preprocessing utils\n",
        "@tf.function\n",
        "def parse_images(image_path):\n",
        "\n",
        "    image_string = tf.io.read_file(image_path)\n",
        "    image = tf.io.decode_jpeg(image_string, channels=3)\n",
        "    # image = tfio.experimental.image.decode_tiff(image_string, index=0, name=None)[:,:,:-1]   # in the doc, it transforms tiff to 4 channels, with additional channel of opacity which is not needed.\n",
        "    image = tf.image.convert_image_dtype(image, tf.float32)\n",
        "    image = tf.image.resize(image, size=[imageSizeheight, imageSizewidth])\n",
        "\n",
        "    return image"
      ],
      "metadata": {
        "id": "kS5wKfz7L8Dw"
      },
      "execution_count": null,
      "outputs": []
    },
    {
      "cell_type": "code",
      "source": [
        "level1_images_train = list(paths.list_files(\"/content/drive/MyDrive/ML course 2022_Team BNL/level1_jpeg\", validExts=\"jpeg\"))\n",
        "# train_images_directory_select = np.random.choice(level1_images_train, 6000, replace=False)\n",
        "train_images_directory_select = np.array(level1_images_train)\n",
        "print(len(level1_images_train))\n",
        "print(len(train_images_directory_select))"
      ],
      "metadata": {
        "id": "SxTbNP2acTfT",
        "colab": {
          "base_uri": "https://localhost:8080/"
        },
        "outputId": "e19c49dc-7d55-44fa-eed2-e86e6fb8354f"
      },
      "execution_count": null,
      "outputs": [
        {
          "output_type": "stream",
          "name": "stdout",
          "text": [
            "5882\n",
            "5882\n"
          ]
        }
      ]
    },
    {
      "cell_type": "code",
      "source": [
        "labels = []                                                    # initialize labels\n",
        "positions = []                                                 # initialize the positions of the images, needed for record keeping\n",
        "\n",
        "edge_pixel_intensity_threshold = 0.50\n",
        "edge_percentage_threshold = 0.10\n",
        "cap = 20\n",
        "\n",
        "for i in range(train_images_directory_select.shape[0]):\n",
        "  label = np.abs(float(train_images_directory_select[i].split(\"_\")[-1][:-5].split(\"(\")[0]))               # individual label, can be put into absolute or not                                                 \n",
        "  labels.append(label)\n",
        "  position = train_images_directory_select[i].split(\"_\")[-3] + '_' + train_images_directory_select[i].split(\"_\")[-2]      # individual position\n",
        "  positions.append(position)\n",
        "labels = np.array(labels)\n",
        "positions = np.array(positions)\n",
        "\n",
        "infocus_images_coordinate = np.where(labels==0)[0]                                       # locations where the infocus images are\n",
        "edge_percentages = []\n",
        "valid = []\n",
        "for i in range(train_images_directory_select[infocus_images_coordinate].shape[0]):\n",
        "  edge_percentage = len(np.where(parse_images(train_images_directory_select[infocus_images_coordinate][i])[:,:,0]>=edge_pixel_intensity_threshold)[0]) / imageSizeheight / imageSizewidth\n",
        "  edge_percentages.append(edge_percentage)\n",
        "  if edge_percentage >= edge_percentage_threshold:                                                             # picking out infocus images where the area containing edges is greater than a threshold value\n",
        "    valid.append(positions[infocus_images_coordinate][i])\n",
        "\n",
        "for i in range(len(valid)):\n",
        "  valid_position = np.where(positions==valid[i])[0]\n",
        "  if i == 0:\n",
        "    valid_positions = valid_position\n",
        "  else:\n",
        "    valid_positions = np.append(valid_positions, valid_position)\n",
        "\n",
        "valid_directories = train_images_directory_select[valid_positions]\n",
        "valid_labels = labels[valid_positions]\n",
        "\n",
        "\n",
        "capped_valid_labels = valid_labels[np.where(np.abs(valid_labels)<=cap)[0]]                                # not include the focal distance larger than cap\n",
        "capped_valid_directories = valid_directories[np.where(np.abs(valid_labels)<=cap)[0]]\n",
        "\n",
        "print(len(capped_valid_labels))"
      ],
      "metadata": {
        "id": "lZzVSXCIH0La",
        "colab": {
          "base_uri": "https://localhost:8080/"
        },
        "outputId": "dca5d6ec-6aa1-4a59-b4bc-6253c41fdeba"
      },
      "execution_count": null,
      "outputs": [
        {
          "output_type": "stream",
          "name": "stdout",
          "text": [
            "510\n"
          ]
        }
      ]
    },
    {
      "cell_type": "markdown",
      "metadata": {
        "id": "2avjHJzRgBYS"
      },
      "source": [
        "## Initiate our cnn model"
      ]
    },
    {
      "cell_type": "code",
      "metadata": {
        "id": "XZwRlS-39B8y",
        "colab": {
          "base_uri": "https://localhost:8080/"
        },
        "outputId": "e06e9afe-ab38-4571-d4db-0b9a2add782a"
      },
      "source": [
        "Resnet50_transfer = tf.keras.applications.resnet50.ResNet50(\n",
        "    include_top=False,\n",
        "    weights=\"imagenet\",\n",
        "    # weights=None,\n",
        "    input_tensor=None,\n",
        "    input_shape=(imageSizeheight, imageSizewidth, 3), \n",
        "    pooling=None,\n",
        ")\n",
        "\n",
        "Resnet50_transfer.trainable = True"
      ],
      "execution_count": null,
      "outputs": [
        {
          "output_type": "stream",
          "name": "stdout",
          "text": [
            "Downloading data from https://storage.googleapis.com/tensorflow/keras-applications/resnet/resnet50_weights_tf_dim_ordering_tf_kernels_notop.h5\n",
            "94773248/94765736 [==============================] - 2s 0us/step\n",
            "94781440/94765736 [==============================] - 2s 0us/step\n"
          ]
        }
      ]
    },
    {
      "cell_type": "code",
      "metadata": {
        "id": "rqmu6yFSJwUz"
      },
      "source": [
        "Resnet50_transfer.trainable = False\n",
        "\n",
        "supervise_model = tf.keras.models.Sequential([\n",
        "    \n",
        "    Resnet50_transfer,\n",
        "    GlobalAveragePooling2D(),\n",
        "    # BatchNormalization(epsilon=0.1),\n",
        "    # Dense(64, activation='relu'),\n",
        "    # Dropout(0.5),\n",
        "    # BatchNormalization(epsilon=0.1),\n",
        "    # Dense(32, activation='relu'),\n",
        "    # Dropout(0.5),\n",
        "    # BatchNormalization(epsilon=0.1),\n",
        "    Dense(16, activation='relu'),\n",
        "    Dropout(0.5),\n",
        "    Dense(1)\n",
        "])"
      ],
      "execution_count": null,
      "outputs": []
    },
    {
      "cell_type": "code",
      "metadata": {
        "colab": {
          "base_uri": "https://localhost:8080/"
        },
        "id": "3UrBJxUZO9tM",
        "outputId": "e5fbf4ca-b541-4659-981a-51bbf8b9e847"
      },
      "source": [
        "# adam = tf.keras.optimizers.Adam(learning_rate=0.001)\n",
        "# sgd = tf.keras.optimizers.SGD(learning_rate=0.001)\n",
        "# metrics = ['mae'\n",
        "#                 ]\n",
        "# supervise_model.compile(loss = 'mse', optimizer = adam, metrics = metrics)\n",
        "# supervise_model.summary()"
      ],
      "execution_count": null,
      "outputs": [
        {
          "output_type": "stream",
          "name": "stdout",
          "text": [
            "Model: \"sequential\"\n",
            "_________________________________________________________________\n",
            " Layer (type)                Output Shape              Param #   \n",
            "=================================================================\n",
            " resnet50 (Functional)       (None, 38, 60, 2048)      23587712  \n",
            "                                                                 \n",
            " global_average_pooling2d (G  (None, 2048)             0         \n",
            " lobalAveragePooling2D)                                          \n",
            "                                                                 \n",
            " dense (Dense)               (None, 16)                32784     \n",
            "                                                                 \n",
            " dropout (Dropout)           (None, 16)                0         \n",
            "                                                                 \n",
            " dense_1 (Dense)             (None, 1)                 17        \n",
            "                                                                 \n",
            "=================================================================\n",
            "Total params: 23,620,513\n",
            "Trainable params: 32,801\n",
            "Non-trainable params: 23,587,712\n",
            "_________________________________________________________________\n"
          ]
        }
      ]
    },
    {
      "cell_type": "code",
      "source": [
        "# cnn feature extraction in segments so as to avoid OOM problem, that we encountered with image set size larger than 1000.\n",
        "feature_extractor = Model(supervise_model.input, supervise_model.layers[-4].output)\n",
        "n_segments = len(capped_valid_directories) // 500 + 1\n",
        "for i in range(n_segments):\n",
        "  if i == 0:\n",
        "    train_ds = tf.data.Dataset.from_tensor_slices(capped_valid_directories[:(i + 1) * 500])\n",
        "    train_ds = (\n",
        "        train_ds\n",
        "        .map(parse_images, num_parallel_calls=tf.data.experimental.AUTOTUNE)\n",
        "        .batch(training_batch_size\n",
        "              #  , drop_remainder=True\n",
        "              )\n",
        "        .prefetch(tf.data.experimental.AUTOTUNE)\n",
        "    )\n",
        "\n",
        "    features = feature_extractor.predict(train_ds)\n",
        "\n",
        "  else:\n",
        "    train_ds = tf.data.Dataset.from_tensor_slices(capped_valid_directories[i * 500 :(i + 1) * 500])\n",
        "    train_ds = (\n",
        "        train_ds\n",
        "        .map(parse_images, num_parallel_calls=tf.data.experimental.AUTOTUNE)\n",
        "        .batch(training_batch_size\n",
        "              #  , drop_remainder=True\n",
        "              )\n",
        "        .prefetch(tf.data.experimental.AUTOTUNE)\n",
        "    )\n",
        "\n",
        "    features = np.append(features, feature_extractor.predict(train_ds), axis=0)"
      ],
      "metadata": {
        "id": "bTmxPNyGGtE5"
      },
      "execution_count": null,
      "outputs": []
    },
    {
      "cell_type": "markdown",
      "source": [
        "## KFolds validation"
      ],
      "metadata": {
        "id": "_JFTNkQAjIp5"
      }
    },
    {
      "cell_type": "code",
      "source": [
        "training_data_size = np.array([10, 20, 50, 80, 100, 150, 200])\n",
        "n_folds = 5\n",
        "n_split_split = 20\n",
        "n_validation_images = 50\n",
        "rkf = RepeatedKFold(n_splits=n_folds, n_repeats=n_split_split, random_state=42)\n",
        "\n",
        "xgb_scores = np.zeros((len(training_data_size), n_folds * n_split_split, 2))\n",
        "ridge_scores = np.zeros((len(training_data_size), n_folds * n_split_split, 2))\n",
        "rf_scores = np.zeros((len(training_data_size), n_folds * n_split_split, 2))\n",
        "sv_scores = np.zeros((len(training_data_size), n_folds * n_split_split, 2))\n",
        "gp_scores = np.zeros((len(training_data_size), n_folds * n_split_split, 2))\n",
        "mlp_scores = np.zeros((len(training_data_size), n_folds * n_split_split, 2))\n",
        "\n",
        "k = 0\n",
        "for train_ix, test_ix in rkf.split(features, capped_valid_labels):\n",
        "  \n",
        "      Train_feature, val_feature = features[train_ix], features[test_ix]\n",
        "      Train_label, val_label = capped_valid_labels[train_ix], capped_valid_labels[test_ix]\n",
        "      val_feature = val_feature[:n_validation_images]\n",
        "      val_label = val_label[:n_validation_images]\n",
        "      \n",
        "      for i in range(len(training_data_size)):\n",
        "\n",
        "        # initate regressors\n",
        "        xg_boost_regressor = xgb(max_depth=16, learning_rate=0.1, tree_method='gpu_hist', objective='reg:squarederror')         # don't go beyond max_depth of 16, session will crash due to OOM\n",
        "        ridge_regressor = RidgeCV()\n",
        "        rf_regressor = randomforest(max_depth=16)\n",
        "        sv_regressor = svr()\n",
        "        gp_regressor = gpr()\n",
        "        mlp_regressor = mlp(hidden_layer_sizes=(100, 100, 100), max_iter=1000)\n",
        "\n",
        "        train_feature = Train_feature[:training_data_size[i]]\n",
        "        train_label = Train_label[:training_data_size[i]]\n",
        "\n",
        "        ## add or comment out regressors here\n",
        "\n",
        "\n",
        "        xg_boost_regressor.fit(train_feature, train_label)\n",
        "        y_pred_xgb = xg_boost_regressor.predict(val_feature)\n",
        "        xgb_scores[i, k, 0] = r2_score(y_pred_xgb, val_label)\n",
        "        xgb_scores[i, k, 1] = mean_absolute_error(y_pred_xgb, val_label)\n",
        "\n",
        "        ridge_regressor.fit(train_feature, train_label)\n",
        "        y_pred_ridge = ridge_regressor.predict(val_feature)\n",
        "        ridge_scores[i, k, 0] = r2_score(y_pred_ridge, val_label)\n",
        "        ridge_scores[i, k, 1] = mean_absolute_error(y_pred_ridge, val_label)\n",
        "\n",
        "        rf_regressor.fit(train_feature, train_label)\n",
        "        y_pred_rf = rf_regressor.predict(val_feature)\n",
        "        rf_scores[i, k, 0] = r2_score(y_pred_rf, val_label)\n",
        "        rf_scores[i, k, 1] = mean_absolute_error(y_pred_rf, val_label)\n",
        "\n",
        "        sv_regressor.fit(train_feature, train_label)\n",
        "        y_pred_sv = sv_regressor.predict(val_feature)\n",
        "        sv_scores[i, k, 0] = r2_score(y_pred_sv, val_label)\n",
        "        sv_scores[i, k, 1] = mean_absolute_error(y_pred_sv, val_label)\n",
        "\n",
        "        gp_regressor.fit(train_feature, train_label)\n",
        "        y_pred_gp = gp_regressor.predict(val_feature)\n",
        "        gp_scores[i, k, 0] = r2_score(y_pred_gp, val_label)\n",
        "        gp_scores[i, k, 1] = mean_absolute_error(y_pred_gp, val_label)\n",
        "\n",
        "        mlp_regressor.fit(train_feature, train_label)\n",
        "        y_pred_mlp = mlp_regressor.predict(val_feature)\n",
        "        mlp_scores[i, k, 0] = r2_score(y_pred_mlp, val_label)\n",
        "        mlp_scores[i, k, 1] = mean_absolute_error(y_pred_mlp, val_label)\n",
        "        \n",
        "      k += 1\n",
        "\n",
        "np.savez_compressed('performance_log/level1/cap%i_cutoff%1.2f_valid%i.npz' %(cap, edge_percentage_threshold, len(capped_valid_labels)), xgb=xgb_scores, ridge=ridge_scores, rf=rf_scores, sv=sv_scores, gp=gp_scores, mlp=mlp_scores)"
      ],
      "metadata": {
        "id": "UhqqVVAnwnYx"
      },
      "execution_count": null,
      "outputs": []
    },
    {
      "cell_type": "code",
      "source": [
        "for i in range(len(training_data_size)):\n",
        "  print('training_data_size: %i' % training_data_size[i])\n",
        "  print(np.average(xgb_scores[i, :, 0]))\n",
        "  print(np.std(xgb_scores[i, :, 0]))\n",
        "  print(np.average(xgb_scores[i, :, 1]))\n",
        "  print(np.std(xgb_scores[i, :, 1]))\n",
        "  print(np.average(ridge_scores[i, :, 0]))\n",
        "  print(np.std(ridge_scores[i, :, 0]))\n",
        "  print(np.average(ridge_scores[i, :, 1]))\n",
        "  print(np.std(ridge_scores[i, :, 1]))\n",
        "  print(np.average(rf_scores[i, :, 0]))\n",
        "  print(np.std(rf_scores[i, :, 0]))\n",
        "  print(np.average(rf_scores[i, :, 1]))\n",
        "  print(np.std(rf_scores[i, :, 1]))\n",
        "  print(np.average(sv_scores[i, :, 0]))\n",
        "  print(np.std(sv_scores[i, :, 0]))\n",
        "  print(np.average(sv_scores[i, :, 1]))\n",
        "  print(np.std(sv_scores[i, :, 1]))\n",
        "  print(np.average(gp_scores[i, :, 0]))\n",
        "  print(np.std(gp_scores[i, :, 0]))\n",
        "  print(np.average(gp_scores[i, :, 1]))\n",
        "  print(np.std(gp_scores[i, :, 1]))\n",
        "  print(np.average(mlp_scores[i, :, 0]))\n",
        "  print(np.std(mlp_scores[i, :, 0]))\n",
        "  print(np.average(mlp_scores[i, :, 1]))\n",
        "  print(np.std(mlp_scores[i, :, 1]))"
      ],
      "metadata": {
        "id": "GOyBUzxa2XMd",
        "colab": {
          "base_uri": "https://localhost:8080/"
        },
        "outputId": "2ebfcee5-2776-4ed6-b018-45ce0a57b207"
      },
      "execution_count": null,
      "outputs": [
        {
          "output_type": "stream",
          "name": "stdout",
          "text": [
            "training_data_size: 10\n",
            "0.14084248695740414\n",
            "2.7596362558658334\n",
            "3.072736385648594\n",
            "0.8956592728706928\n",
            "-0.7766834675071752\n",
            "7.595225687628904\n",
            "2.919382927749211\n",
            "0.8930499778813756\n",
            "-4.75159455046763\n",
            "21.32244198472842\n",
            "3.707794289579082\n",
            "0.8381547926925947\n",
            "-1376046.7630098618\n",
            "2118775.2312446465\n",
            "6.652055530528884\n",
            "0.7328939987957965\n",
            "-20.139719237492674\n",
            "114.14783619964996\n",
            "4.195719456627305\n",
            "1.0904307439505168\n",
            "0.31790680908968794\n",
            "2.390246555151645\n",
            "2.4593776514136305\n",
            "1.134806561531438\n",
            "training_data_size: 20\n",
            "0.6127460916004517\n",
            "0.14273374618180942\n",
            "2.5826030791908217\n",
            "0.4023774093347564\n",
            "0.5979328567114998\n",
            "0.12393640668622741\n",
            "2.727254395662266\n",
            "0.3551364679070613\n",
            "0.4695063402054142\n",
            "0.20017859336515761\n",
            "2.688883169837599\n",
            "0.38192943109347943\n",
            "-119141.3728962809\n",
            "93425.85060880502\n",
            "6.27230394648212\n",
            "0.6147711495190518\n",
            "0.4227523017135294\n",
            "0.2049816135261394\n",
            "3.532484646850965\n",
            "0.4839886312193726\n",
            "0.7459562784933172\n",
            "0.12870139680243298\n",
            "2.076345256859041\n",
            "0.4731978555179052\n",
            "training_data_size: 50\n",
            "0.8203983095044499\n",
            "0.0813710079479404\n",
            "1.8189238103763918\n",
            "0.31835587664078063\n",
            "0.8810790948688981\n",
            "0.04093764368141865\n",
            "1.7370660068909358\n",
            "0.24903124740454324\n",
            "0.8351375909390757\n",
            "0.05075356508560078\n",
            "1.7992479860717152\n",
            "0.21104235861444043\n",
            "-8376.665931761401\n",
            "2614.529403387579\n",
            "6.002770899687513\n",
            "0.5161205594769536\n",
            "0.6201355889437847\n",
            "0.11851263374356036\n",
            "3.004971927340325\n",
            "0.36547285417363223\n",
            "0.8478852613162248\n",
            "0.056011520626132266\n",
            "1.782785358318094\n",
            "0.2631306362533543\n",
            "training_data_size: 80\n",
            "0.9083950034115618\n",
            "0.03745150726943866\n",
            "1.3435363704845256\n",
            "0.19916348411480972\n",
            "0.9252873768560436\n",
            "0.02102686881782523\n",
            "1.4022435428550668\n",
            "0.1414553425484046\n",
            "0.9100721924319877\n",
            "0.036313377568307346\n",
            "1.347547300866414\n",
            "0.17261037114927213\n",
            "-2651.4731180791555\n",
            "475.47371995027567\n",
            "5.924137085521008\n",
            "0.4525022040498505\n",
            "0.6867956625673383\n",
            "0.11416176743783346\n",
            "2.569695774759313\n",
            "0.40497497869661125\n",
            "0.8778979080638526\n",
            "0.048103982832002734\n",
            "1.6297619458434178\n",
            "0.2509850740151335\n",
            "training_data_size: 100\n",
            "0.9212289448201575\n",
            "0.03647168611797789\n",
            "1.2326429367756924\n",
            "0.19567887801379003\n",
            "0.9293755852615996\n",
            "0.022302630504414243\n",
            "1.329463549542797\n",
            "0.14349953051944603\n",
            "0.9235942071371065\n",
            "0.033336546478229555\n",
            "1.239676189402976\n",
            "0.1608974991051767\n",
            "-1482.2604119163138\n",
            "224.71347800861955\n",
            "5.891199374110353\n",
            "0.43176999215527656\n",
            "0.7125141860700718\n",
            "0.10790024622258106\n",
            "2.4759274293968003\n",
            "0.4044658331879874\n",
            "0.8879578247699073\n",
            "0.04616443076624449\n",
            "1.5710054313252053\n",
            "0.2554933738653663\n",
            "training_data_size: 150\n",
            "0.9425109155778957\n",
            "0.02772839342797353\n",
            "1.0476652797382067\n",
            "0.15881349172825485\n",
            "0.9510358314580771\n",
            "0.017721447215294617\n",
            "1.1157259919904492\n",
            "0.1260250039176212\n",
            "0.9379231184338046\n",
            "0.02798137789388804\n",
            "1.0923404920115902\n",
            "0.15914939271462836\n",
            "-711.8816547442243\n",
            "110.28370311326765\n",
            "5.836516910421523\n",
            "0.447310550243297\n",
            "0.754891961996632\n",
            "0.08783222036969277\n",
            "2.211500399392409\n",
            "0.3674392918856898\n",
            "0.8881859498892823\n",
            "0.05260471220163631\n",
            "1.5768598692961506\n",
            "0.2994298914647158\n",
            "training_data_size: 200\n",
            "0.9500538039644125\n",
            "0.025227156944934555\n",
            "0.9685059190571245\n",
            "0.14970389300903494\n",
            "0.9532059958787177\n",
            "0.015245713932625282\n",
            "1.0865333214303208\n",
            "0.11278059865765575\n",
            "0.9441234177950087\n",
            "0.025805593948424663\n",
            "1.0188601376367352\n",
            "0.14328988408151982\n",
            "-395.004017721243\n",
            "53.94205151407905\n",
            "5.773433767720981\n",
            "0.4318984522267623\n",
            "0.786397781292844\n",
            "0.08230859431349802\n",
            "1.960874737406081\n",
            "0.3394807218700498\n",
            "0.8891547044793708\n",
            "0.041680979172726715\n",
            "1.5479714113376601\n",
            "0.23487422010232534\n"
          ]
        }
      ]
    },
    {
      "cell_type": "code",
      "source": [
        "# rf_regressor = randomforest(max_depth=16)\n",
        "features_train, features_test, train_label, test_label = train_test_split(features, capped_valid_labels, test_size=0.2, random_state=42)\n",
        "# rf_regressor.fit(features_train, train_label)\n",
        "y_pred_rf = rf_regressor.predict(features_test)"
      ],
      "metadata": {
        "id": "fzJkQaeLmOws"
      },
      "execution_count": null,
      "outputs": []
    },
    {
      "cell_type": "code",
      "source": [
        "print('rf prediction r2_score = %f' % r2_score(y_pred_rf, test_label))\n",
        "print('rf prediction mean_absolute_error = %f' % mean_absolute_error(y_pred_rf, test_label))\n",
        "plt.scatter(test_label, y_pred_rf)\n",
        "plt.plot(np.linspace(0, cap, 150), np.linspace(0, cap, 150), c='r')\n",
        "plt.xlabel('true_distance [$\\mu m$]')\n",
        "plt.ylabel('predicted_distance [$\\mu m$]')"
      ],
      "metadata": {
        "id": "2r9xflCopvi7",
        "colab": {
          "base_uri": "https://localhost:8080/",
          "height": 336
        },
        "outputId": "002f2a1a-2c5e-47f9-b597-79346e3bc8cc"
      },
      "execution_count": null,
      "outputs": [
        {
          "output_type": "stream",
          "name": "stdout",
          "text": [
            "rf prediction r2_score = 0.984096\n",
            "rf prediction mean_absolute_error = 0.531279\n"
          ]
        },
        {
          "output_type": "execute_result",
          "data": {
            "text/plain": [
              "Text(0, 0.5, 'predicted_distance [$\\\\mu m$]')"
            ]
          },
          "metadata": {},
          "execution_count": 29
        },
        {
          "output_type": "display_data",
          "data": {
            "text/plain": [
              "<Figure size 432x288 with 1 Axes>"
            ],
            "image/png": "[encoded data removed]"
          },
          "metadata": {
            "needs_background": "light"
          }
        }
      ]
    },
    {
      "cell_type": "code",
      "source": [
        "ridge_regressor.fit(extracted_features_train, train_label)\n",
        "y_pred_ridge = ridge_regressor.predict(extracted_features_test)"
      ],
      "metadata": {
        "id": "X1diLQhRp_Sr"
      },
      "execution_count": null,
      "outputs": []
    },
    {
      "cell_type": "code",
      "source": [
        "print('RidgeCV prediction r2_score = %f' % r2_score(y_pred_ridge, test_label))\n",
        "print('RidgeCV prediction mean_absolute_error = %f' % mean_absolute_error(y_pred_ridge, test_label))\n",
        "plt.scatter(test_label, y_pred_ridge)\n",
        "plt.plot(np.linspace(0, cap, 150), np.linspace(0, cap, 150), c='r')\n",
        "plt.xlabel('true_distance')\n",
        "plt.ylabel('predicted_distance')"
      ],
      "metadata": {
        "colab": {
          "base_uri": "https://localhost:8080/",
          "height": 332
        },
        "id": "ndpAwfaKqhfD",
        "outputId": "bfaca983-4cff-4bf8-fd88-8e3b78083453"
      },
      "execution_count": null,
      "outputs": [
        {
          "output_type": "stream",
          "name": "stdout",
          "text": [
            "RidgeCV prediction r2_score = 0.688922\n",
            "RidgeCV prediction mean_absolute_error = 2.739158\n"
          ]
        },
        {
          "output_type": "execute_result",
          "data": {
            "text/plain": [
              "Text(0, 0.5, 'predicted_distance')"
            ]
          },
          "metadata": {},
          "execution_count": 29
        },
        {
          "output_type": "display_data",
          "data": {
            "image/png": "[encoded data removed]",
            "text/plain": [
              "<Figure size 432x288 with 1 Axes>"
            ]
          },
          "metadata": {
            "needs_background": "light"
          }
        }
      ]
    },
    {
      "cell_type": "code",
      "source": [
        "tf.random.set_seed(42)\n",
        "supervise_history = supervise_model.fit(train_ds,\n",
        "                 validation_data=test_ds,                      \n",
        "                 batch_size=training_batch_size,                       \n",
        "                 epochs=10,                                           \n",
        "                 workers=8,                                            \n",
        "                 use_multiprocessing=True,                             \n",
        "                 verbose=1)                                         \n",
        "                #  callbacks=[MetricsCheckpoint('small_supervise')])  "
      ],
      "metadata": {
        "colab": {
          "base_uri": "https://localhost:8080/",
          "height": 623
        },
        "id": "FcEsQawbmBmD",
        "outputId": "356e5d1f-fe3d-4678-fe42-bcac03fc9f95"
      },
      "execution_count": null,
      "outputs": [
        {
          "output_type": "stream",
          "name": "stdout",
          "text": [
            "Epoch 1/10\n",
            "21/21 [==============================] - 55s 2s/step - loss: 30.6404 - mae: 4.4466 - val_loss: 25.7785 - val_mae: 4.5040\n",
            "Epoch 2/10\n",
            "21/21 [==============================] - ETA: 0s - loss: 27.6751 - mae: 4.4045"
          ]
        },
        {
          "output_type": "error",
          "ename": "InvalidArgumentError",
          "evalue": "ignored",
          "traceback": [
            "\u001b[0;31m---------------------------------------------------------------------------\u001b[0m",
            "\u001b[0;31mInvalidArgumentError\u001b[0m                      Traceback (most recent call last)",
            "\u001b[0;32m<ipython-input-14-d04a7da1e398>\u001b[0m in \u001b[0;36m<module>\u001b[0;34m()\u001b[0m\n\u001b[1;32m      6\u001b[0m                  \u001b[0mworkers\u001b[0m\u001b[0;34m=\u001b[0m\u001b[0;36m8\u001b[0m\u001b[0;34m,\u001b[0m\u001b[0;34m\u001b[0m\u001b[0;34m\u001b[0m\u001b[0m\n\u001b[1;32m      7\u001b[0m                  \u001b[0muse_multiprocessing\u001b[0m\u001b[0;34m=\u001b[0m\u001b[0;32mTrue\u001b[0m\u001b[0;34m,\u001b[0m\u001b[0;34m\u001b[0m\u001b[0;34m\u001b[0m\u001b[0m\n\u001b[0;32m----> 8\u001b[0;31m                  verbose=1)                                         \n\u001b[0m\u001b[1;32m      9\u001b[0m                 \u001b[0;31m#  callbacks=[MetricsCheckpoint('small_supervise')])\u001b[0m\u001b[0;34m\u001b[0m\u001b[0;34m\u001b[0m\u001b[0;34m\u001b[0m\u001b[0m\n",
            "\u001b[0;32m/usr/local/lib/python3.7/dist-packages/keras/utils/traceback_utils.py\u001b[0m in \u001b[0;36merror_handler\u001b[0;34m(*args, **kwargs)\u001b[0m\n\u001b[1;32m     65\u001b[0m     \u001b[0;32mexcept\u001b[0m \u001b[0mException\u001b[0m \u001b[0;32mas\u001b[0m \u001b[0me\u001b[0m\u001b[0;34m:\u001b[0m  \u001b[0;31m# pylint: disable=broad-except\u001b[0m\u001b[0;34m\u001b[0m\u001b[0;34m\u001b[0m\u001b[0m\n\u001b[1;32m     66\u001b[0m       \u001b[0mfiltered_tb\u001b[0m \u001b[0;34m=\u001b[0m \u001b[0m_process_traceback_frames\u001b[0m\u001b[0;34m(\u001b[0m\u001b[0me\u001b[0m\u001b[0;34m.\u001b[0m\u001b[0m__traceback__\u001b[0m\u001b[0;34m)\u001b[0m\u001b[0;34m\u001b[0m\u001b[0;34m\u001b[0m\u001b[0m\n\u001b[0;32m---> 67\u001b[0;31m       \u001b[0;32mraise\u001b[0m \u001b[0me\u001b[0m\u001b[0;34m.\u001b[0m\u001b[0mwith_traceback\u001b[0m\u001b[0;34m(\u001b[0m\u001b[0mfiltered_tb\u001b[0m\u001b[0;34m)\u001b[0m \u001b[0;32mfrom\u001b[0m \u001b[0;32mNone\u001b[0m\u001b[0;34m\u001b[0m\u001b[0;34m\u001b[0m\u001b[0m\n\u001b[0m\u001b[1;32m     68\u001b[0m     \u001b[0;32mfinally\u001b[0m\u001b[0;34m:\u001b[0m\u001b[0;34m\u001b[0m\u001b[0;34m\u001b[0m\u001b[0m\n\u001b[1;32m     69\u001b[0m       \u001b[0;32mdel\u001b[0m \u001b[0mfiltered_tb\u001b[0m\u001b[0;34m\u001b[0m\u001b[0;34m\u001b[0m\u001b[0m\n",
            "\u001b[0;32m/usr/local/lib/python3.7/dist-packages/tensorflow/python/eager/execute.py\u001b[0m in \u001b[0;36mquick_execute\u001b[0;34m(op_name, num_outputs, inputs, attrs, ctx, name)\u001b[0m\n\u001b[1;32m     53\u001b[0m     \u001b[0mctx\u001b[0m\u001b[0;34m.\u001b[0m\u001b[0mensure_initialized\u001b[0m\u001b[0;34m(\u001b[0m\u001b[0;34m)\u001b[0m\u001b[0;34m\u001b[0m\u001b[0;34m\u001b[0m\u001b[0m\n\u001b[1;32m     54\u001b[0m     tensors = pywrap_tfe.TFE_Py_Execute(ctx._handle, device_name, op_name,\n\u001b[0;32m---> 55\u001b[0;31m                                         inputs, attrs, num_outputs)\n\u001b[0m\u001b[1;32m     56\u001b[0m   \u001b[0;32mexcept\u001b[0m \u001b[0mcore\u001b[0m\u001b[0;34m.\u001b[0m\u001b[0m_NotOkStatusException\u001b[0m \u001b[0;32mas\u001b[0m \u001b[0me\u001b[0m\u001b[0;34m:\u001b[0m\u001b[0;34m\u001b[0m\u001b[0;34m\u001b[0m\u001b[0m\n\u001b[1;32m     57\u001b[0m     \u001b[0;32mif\u001b[0m \u001b[0mname\u001b[0m \u001b[0;32mis\u001b[0m \u001b[0;32mnot\u001b[0m \u001b[0;32mNone\u001b[0m\u001b[0;34m:\u001b[0m\u001b[0;34m\u001b[0m\u001b[0;34m\u001b[0m\u001b[0m\n",
            "\u001b[0;31mInvalidArgumentError\u001b[0m: Graph execution error:\n\n2 root error(s) found.\n  (0) INVALID_ARGUMENT:  jpeg::Uncompress failed. Invalid JPEG data or crop window.\n\t [[{{node DecodeJpeg}}]]\n\t [[IteratorGetNext]]\n\t [[IteratorGetNext/_4]]\n  (1) INVALID_ARGUMENT:  jpeg::Uncompress failed. Invalid JPEG data or crop window.\n\t [[{{node DecodeJpeg}}]]\n\t [[IteratorGetNext]]\n0 successful operations.\n0 derived errors ignored. [Op:__inference_test_function_40461]"
          ]
        }
      ]
    }
  ]
}