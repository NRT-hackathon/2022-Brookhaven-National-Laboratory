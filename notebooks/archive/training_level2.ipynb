{
  "nbformat": 4,
  "nbformat_minor": 0,
  "metadata": {
    "colab": {
      "name": "ML_course_training_notebook_lv2_Shizhao.ipynb",
      "provenance": [],
      "collapsed_sections": [],
      "machine_shape": "hm",
      "include_colab_link": true
    },
    "kernelspec": {
      "display_name": "Python 3",
      "language": "python",
      "name": "python3"
    },
    "language_info": {
      "codemirror_mode": {
        "name": "ipython",
        "version": 3
      },
      "file_extension": ".py",
      "mimetype": "text/x-python",
      "name": "python",
      "nbconvert_exporter": "python",
      "pygments_lexer": "ipython3",
      "version": "3.7.1"
    },
    "accelerator": "GPU"
  },
  "cells": [
    {
      "cell_type": "markdown",
      "metadata": {
        "id": "view-in-github",
        "colab_type": "text"
      },
      "source": [
        "<a href=\"https://colab.research.google.com/github/evanmacbride/microscope-autofocus/blob/main/notebooks/archive/training_level2.ipynb\" target=\"_parent\"><img src=\"https://colab.research.google.com/assets/colab-badge.svg\" alt=\"Open In Colab\"/></a>"
      ]
    },
    {
      "cell_type": "markdown",
      "metadata": {
        "id": "LMp5lKNjgBXq"
      },
      "source": [
        "## Initial setup"
      ]
    },
    {
      "cell_type": "code",
      "metadata": {
        "colab": {
          "base_uri": "https://localhost:8080/"
        },
        "id": "CDVgw5FnT6Hc",
        "outputId": "9fa95665-dbd9-4d08-a7e4-50e2e2d50b4b"
      },
      "source": [
        "from google.colab import drive\n",
        "drive.mount('/content/drive')"
      ],
      "execution_count": null,
      "outputs": [
        {
          "output_type": "stream",
          "name": "stdout",
          "text": [
            "Mounted at /content/drive\n"
          ]
        }
      ]
    },
    {
      "cell_type": "code",
      "metadata": {
        "colab": {
          "base_uri": "https://localhost:8080/"
        },
        "id": "lIYdn1woOS1n",
        "outputId": "021401b4-a790-493e-f3ab-d86cbdf0a81a"
      },
      "source": [
        "import tensorflow as tf\n",
        "print(tf.__version__)\n",
        "# tensorflow version used is 2.8.0\n",
        "import torch\n",
        "print(torch.__version__)\n",
        "# torch version used is 1.10+cu111"
      ],
      "execution_count": null,
      "outputs": [
        {
          "output_type": "stream",
          "name": "stdout",
          "text": [
            "2.8.0\n",
            "1.10.0+cu111\n"
          ]
        }
      ]
    },
    {
      "cell_type": "code",
      "metadata": {
        "colab": {
          "base_uri": "https://localhost:8080/"
        },
        "id": "dZowsDvOYK37",
        "outputId": "8d1d3405-f933-497e-d4e5-82ee339774ad"
      },
      "source": [
        "!nvidia-smi"
      ],
      "execution_count": null,
      "outputs": [
        {
          "output_type": "stream",
          "name": "stdout",
          "text": [
            "Sun Apr 17 21:06:30 2022       \n",
            "+-----------------------------------------------------------------------------+\n",
            "| NVIDIA-SMI 460.32.03    Driver Version: 460.32.03    CUDA Version: 11.2     |\n",
            "|-------------------------------+----------------------+----------------------+\n",
            "| GPU  Name        Persistence-M| Bus-Id        Disp.A | Volatile Uncorr. ECC |\n",
            "| Fan  Temp  Perf  Pwr:Usage/Cap|         Memory-Usage | GPU-Util  Compute M. |\n",
            "|                               |                      |               MIG M. |\n",
            "|===============================+======================+======================|\n",
            "|   0  Tesla T4            Off  | 00000000:00:04.0 Off |                    0 |\n",
            "| N/A   43C    P8     9W /  70W |      0MiB / 15109MiB |      0%      Default |\n",
            "|                               |                      |                  N/A |\n",
            "+-------------------------------+----------------------+----------------------+\n",
            "                                                                               \n",
            "+-----------------------------------------------------------------------------+\n",
            "| Processes:                                                                  |\n",
            "|  GPU   GI   CI        PID   Type   Process name                  GPU Memory |\n",
            "|        ID   ID                                                   Usage      |\n",
            "|=============================================================================|\n",
            "|  No running processes found                                                 |\n",
            "+-----------------------------------------------------------------------------+\n"
          ]
        }
      ]
    },
    {
      "cell_type": "code",
      "metadata": {
        "colab": {
          "base_uri": "https://localhost:8080/"
        },
        "id": "421MrJNMYQD7",
        "outputId": "a2655f53-96e6-4681-cce2-8ef11778ddec"
      },
      "source": [
        "# Other imports\n",
        "! pip install tensorflow_addons\n",
        "! pip install tensorflow_io\n",
        "! pip install lightgbm\n",
        "! pip install xgboost\n",
        "! pip install catboost\n",
        "\n",
        "import os\n",
        "from tensorflow.keras.layers import *\n",
        "from tensorflow.keras.models import *\n",
        "from tensorflow import keras as tfkeras\n",
        "import matplotlib.pyplot as plt\n",
        "from imutils import paths\n",
        "from tqdm import tqdm\n",
        "import tensorflow as tf\n",
        "import tensorflow_addons as tfa\n",
        "import tensorflow_datasets as tfds\n",
        "import tensorflow_io as tfio\n",
        "import tensorflow_hub as hub\n",
        "import numpy as np\n",
        "import cv2\n",
        "import pandas as pd\n",
        "from sklearn.preprocessing import LabelEncoder\n",
        "from sklearn.cluster import KMeans\n",
        "from sklearn.metrics.pairwise import cosine_similarity as cos\n",
        "from sympy.utilities.iterables import multiset_permutations\n",
        "from sklearn.metrics import accuracy_score, f1_score, confusion_matrix, mean_absolute_error, r2_score\n",
        "from sklearn.model_selection import *\n",
        "from IPython.display import Image, display\n",
        "from scipy import ndimage\n",
        "\n",
        "from xgboost import XGBRegressor as xgb\n",
        "from sklearn.ensemble import ExtraTreesRegressor as extratree\n",
        "from sklearn.ensemble import RandomForestRegressor as randomforest\n",
        "from sklearn.svm import NuSVR as svr\n",
        "from sklearn.gaussian_process import GaussianProcessRegressor as gpr\n",
        "from sklearn.ensemble import AdaBoostRegressor as ada\n",
        "from sklearn.tree import DecisionTreeRegressor as tree\n",
        "from sklearn.ensemble import GradientBoostingRegressor as gdb\n",
        "from sklearn.neural_network import MLPRegressor as mlp\n",
        "from sklearn.experimental import enable_hist_gradient_boosting\n",
        "from sklearn.ensemble import HistGradientBoostingRegressor as hgb\n",
        "from lightgbm import LGBMRegressor as lgb\n",
        "from catboost import CatBoostRegressor as cgb\n",
        "from sklearn.ensemble import StackingRegressor as stk\n",
        "from sklearn.linear_model import RidgeCV\n",
        "from sklearn.model_selection import cross_validate, cross_val_predict\n",
        "from sklearn.ensemble import VotingRegressor as vot\n",
        "\n",
        "import zipfile\n",
        "import concurrent.futures\n",
        "\n",
        "# Random seed fix\n",
        "random_seed = 42\n",
        "tf.random.set_seed(random_seed)\n",
        "np.random.seed(random_seed)"
      ],
      "execution_count": null,
      "outputs": [
        {
          "output_type": "stream",
          "name": "stdout",
          "text": [
            "Collecting tensorflow_addons\n",
            "  Downloading tensorflow_addons-0.16.1-cp37-cp37m-manylinux_2_12_x86_64.manylinux2010_x86_64.whl (1.1 MB)\n",
            "\u001b[?25l\r\u001b[K     |▎                               | 10 kB 31.2 MB/s eta 0:00:01\r\u001b[K     |▋                               | 20 kB 38.2 MB/s eta 0:00:01\r\u001b[K     |▉                               | 30 kB 40.9 MB/s eta 0:00:01\r\u001b[K     |█▏                              | 40 kB 27.5 MB/s eta 0:00:01\r\u001b[K     |█▌                              | 51 kB 21.8 MB/s eta 0:00:01\r\u001b[K     |█▊                              | 61 kB 24.8 MB/s eta 0:00:01\r\u001b[K     |██                              | 71 kB 25.2 MB/s eta 0:00:01\r\u001b[K     |██▍                             | 81 kB 26.8 MB/s eta 0:00:01\r\u001b[K     |██▋                             | 92 kB 29.0 MB/s eta 0:00:01\r\u001b[K     |███                             | 102 kB 28.5 MB/s eta 0:00:01\r\u001b[K     |███▏                            | 112 kB 28.5 MB/s eta 0:00:01\r\u001b[K     |███▌                            | 122 kB 28.5 MB/s eta 0:00:01\r\u001b[K     |███▉                            | 133 kB 28.5 MB/s eta 0:00:01\r\u001b[K     |████                            | 143 kB 28.5 MB/s eta 0:00:01\r\u001b[K     |████▍                           | 153 kB 28.5 MB/s eta 0:00:01\r\u001b[K     |████▊                           | 163 kB 28.5 MB/s eta 0:00:01\r\u001b[K     |█████                           | 174 kB 28.5 MB/s eta 0:00:01\r\u001b[K     |█████▎                          | 184 kB 28.5 MB/s eta 0:00:01\r\u001b[K     |█████▌                          | 194 kB 28.5 MB/s eta 0:00:01\r\u001b[K     |█████▉                          | 204 kB 28.5 MB/s eta 0:00:01\r\u001b[K     |██████▏                         | 215 kB 28.5 MB/s eta 0:00:01\r\u001b[K     |██████▍                         | 225 kB 28.5 MB/s eta 0:00:01\r\u001b[K     |██████▊                         | 235 kB 28.5 MB/s eta 0:00:01\r\u001b[K     |███████                         | 245 kB 28.5 MB/s eta 0:00:01\r\u001b[K     |███████▎                        | 256 kB 28.5 MB/s eta 0:00:01\r\u001b[K     |███████▋                        | 266 kB 28.5 MB/s eta 0:00:01\r\u001b[K     |███████▉                        | 276 kB 28.5 MB/s eta 0:00:01\r\u001b[K     |████████▏                       | 286 kB 28.5 MB/s eta 0:00:01\r\u001b[K     |████████▌                       | 296 kB 28.5 MB/s eta 0:00:01\r\u001b[K     |████████▊                       | 307 kB 28.5 MB/s eta 0:00:01\r\u001b[K     |█████████                       | 317 kB 28.5 MB/s eta 0:00:01\r\u001b[K     |█████████▍                      | 327 kB 28.5 MB/s eta 0:00:01\r\u001b[K     |█████████▋                      | 337 kB 28.5 MB/s eta 0:00:01\r\u001b[K     |██████████                      | 348 kB 28.5 MB/s eta 0:00:01\r\u001b[K     |██████████▏                     | 358 kB 28.5 MB/s eta 0:00:01\r\u001b[K     |██████████▌                     | 368 kB 28.5 MB/s eta 0:00:01\r\u001b[K     |██████████▉                     | 378 kB 28.5 MB/s eta 0:00:01\r\u001b[K     |███████████                     | 389 kB 28.5 MB/s eta 0:00:01\r\u001b[K     |███████████▍                    | 399 kB 28.5 MB/s eta 0:00:01\r\u001b[K     |███████████▊                    | 409 kB 28.5 MB/s eta 0:00:01\r\u001b[K     |████████████                    | 419 kB 28.5 MB/s eta 0:00:01\r\u001b[K     |████████████▎                   | 430 kB 28.5 MB/s eta 0:00:01\r\u001b[K     |████████████▌                   | 440 kB 28.5 MB/s eta 0:00:01\r\u001b[K     |████████████▉                   | 450 kB 28.5 MB/s eta 0:00:01\r\u001b[K     |█████████████▏                  | 460 kB 28.5 MB/s eta 0:00:01\r\u001b[K     |█████████████▍                  | 471 kB 28.5 MB/s eta 0:00:01\r\u001b[K     |█████████████▊                  | 481 kB 28.5 MB/s eta 0:00:01\r\u001b[K     |██████████████                  | 491 kB 28.5 MB/s eta 0:00:01\r\u001b[K     |██████████████▎                 | 501 kB 28.5 MB/s eta 0:00:01\r\u001b[K     |██████████████▋                 | 512 kB 28.5 MB/s eta 0:00:01\r\u001b[K     |██████████████▉                 | 522 kB 28.5 MB/s eta 0:00:01\r\u001b[K     |███████████████▏                | 532 kB 28.5 MB/s eta 0:00:01\r\u001b[K     |███████████████▌                | 542 kB 28.5 MB/s eta 0:00:01\r\u001b[K     |███████████████▊                | 552 kB 28.5 MB/s eta 0:00:01\r\u001b[K     |████████████████                | 563 kB 28.5 MB/s eta 0:00:01\r\u001b[K     |████████████████▍               | 573 kB 28.5 MB/s eta 0:00:01\r\u001b[K     |████████████████▋               | 583 kB 28.5 MB/s eta 0:00:01\r\u001b[K     |█████████████████               | 593 kB 28.5 MB/s eta 0:00:01\r\u001b[K     |█████████████████▏              | 604 kB 28.5 MB/s eta 0:00:01\r\u001b[K     |█████████████████▌              | 614 kB 28.5 MB/s eta 0:00:01\r\u001b[K     |█████████████████▉              | 624 kB 28.5 MB/s eta 0:00:01\r\u001b[K     |██████████████████              | 634 kB 28.5 MB/s eta 0:00:01\r\u001b[K     |██████████████████▍             | 645 kB 28.5 MB/s eta 0:00:01\r\u001b[K     |██████████████████▊             | 655 kB 28.5 MB/s eta 0:00:01\r\u001b[K     |███████████████████             | 665 kB 28.5 MB/s eta 0:00:01\r\u001b[K     |███████████████████▎            | 675 kB 28.5 MB/s eta 0:00:01\r\u001b[K     |███████████████████▌            | 686 kB 28.5 MB/s eta 0:00:01\r\u001b[K     |███████████████████▉            | 696 kB 28.5 MB/s eta 0:00:01\r\u001b[K     |████████████████████▏           | 706 kB 28.5 MB/s eta 0:00:01\r\u001b[K     |████████████████████▍           | 716 kB 28.5 MB/s eta 0:00:01\r\u001b[K     |████████████████████▊           | 727 kB 28.5 MB/s eta 0:00:01\r\u001b[K     |█████████████████████           | 737 kB 28.5 MB/s eta 0:00:01\r\u001b[K     |█████████████████████▎          | 747 kB 28.5 MB/s eta 0:00:01\r\u001b[K     |█████████████████████▋          | 757 kB 28.5 MB/s eta 0:00:01\r\u001b[K     |█████████████████████▉          | 768 kB 28.5 MB/s eta 0:00:01\r\u001b[K     |██████████████████████▏         | 778 kB 28.5 MB/s eta 0:00:01\r\u001b[K     |██████████████████████▌         | 788 kB 28.5 MB/s eta 0:00:01\r\u001b[K     |██████████████████████▊         | 798 kB 28.5 MB/s eta 0:00:01\r\u001b[K     |███████████████████████         | 808 kB 28.5 MB/s eta 0:00:01\r\u001b[K     |███████████████████████▍        | 819 kB 28.5 MB/s eta 0:00:01\r\u001b[K     |███████████████████████▋        | 829 kB 28.5 MB/s eta 0:00:01\r\u001b[K     |████████████████████████        | 839 kB 28.5 MB/s eta 0:00:01\r\u001b[K     |████████████████████████▏       | 849 kB 28.5 MB/s eta 0:00:01\r\u001b[K     |████████████████████████▌       | 860 kB 28.5 MB/s eta 0:00:01\r\u001b[K     |████████████████████████▉       | 870 kB 28.5 MB/s eta 0:00:01\r\u001b[K     |█████████████████████████       | 880 kB 28.5 MB/s eta 0:00:01\r\u001b[K     |█████████████████████████▍      | 890 kB 28.5 MB/s eta 0:00:01\r\u001b[K     |█████████████████████████▊      | 901 kB 28.5 MB/s eta 0:00:01\r\u001b[K     |██████████████████████████      | 911 kB 28.5 MB/s eta 0:00:01\r\u001b[K     |██████████████████████████▎     | 921 kB 28.5 MB/s eta 0:00:01\r\u001b[K     |██████████████████████████▌     | 931 kB 28.5 MB/s eta 0:00:01\r\u001b[K     |██████████████████████████▉     | 942 kB 28.5 MB/s eta 0:00:01\r\u001b[K     |███████████████████████████▏    | 952 kB 28.5 MB/s eta 0:00:01\r\u001b[K     |███████████████████████████▍    | 962 kB 28.5 MB/s eta 0:00:01\r\u001b[K     |███████████████████████████▊    | 972 kB 28.5 MB/s eta 0:00:01\r\u001b[K     |████████████████████████████    | 983 kB 28.5 MB/s eta 0:00:01\r\u001b[K     |████████████████████████████▎   | 993 kB 28.5 MB/s eta 0:00:01\r\u001b[K     |████████████████████████████▋   | 1.0 MB 28.5 MB/s eta 0:00:01\r\u001b[K     |████████████████████████████▉   | 1.0 MB 28.5 MB/s eta 0:00:01\r\u001b[K     |█████████████████████████████▏  | 1.0 MB 28.5 MB/s eta 0:00:01\r\u001b[K     |█████████████████████████████▌  | 1.0 MB 28.5 MB/s eta 0:00:01\r\u001b[K     |█████████████████████████████▊  | 1.0 MB 28.5 MB/s eta 0:00:01\r\u001b[K     |██████████████████████████████  | 1.1 MB 28.5 MB/s eta 0:00:01\r\u001b[K     |██████████████████████████████▍ | 1.1 MB 28.5 MB/s eta 0:00:01\r\u001b[K     |██████████████████████████████▋ | 1.1 MB 28.5 MB/s eta 0:00:01\r\u001b[K     |███████████████████████████████ | 1.1 MB 28.5 MB/s eta 0:00:01\r\u001b[K     |███████████████████████████████▏| 1.1 MB 28.5 MB/s eta 0:00:01\r\u001b[K     |███████████████████████████████▌| 1.1 MB 28.5 MB/s eta 0:00:01\r\u001b[K     |███████████████████████████████▉| 1.1 MB 28.5 MB/s eta 0:00:01\r\u001b[K     |████████████████████████████████| 1.1 MB 28.5 MB/s \n",
            "\u001b[?25hRequirement already satisfied: typeguard>=2.7 in /usr/local/lib/python3.7/dist-packages (from tensorflow_addons) (2.7.1)\n",
            "Installing collected packages: tensorflow-addons\n",
            "Successfully installed tensorflow-addons-0.16.1\n",
            "Collecting tensorflow_io\n",
            "  Downloading tensorflow_io-0.24.0-cp37-cp37m-manylinux_2_12_x86_64.manylinux2010_x86_64.whl (23.4 MB)\n",
            "\u001b[K     |████████████████████████████████| 23.4 MB 60.3 MB/s \n",
            "\u001b[?25hRequirement already satisfied: tensorflow-io-gcs-filesystem==0.24.0 in /usr/local/lib/python3.7/dist-packages (from tensorflow_io) (0.24.0)\n",
            "Installing collected packages: tensorflow-io\n",
            "Successfully installed tensorflow-io-0.24.0\n",
            "Requirement already satisfied: lightgbm in /usr/local/lib/python3.7/dist-packages (2.2.3)\n",
            "Requirement already satisfied: scipy in /usr/local/lib/python3.7/dist-packages (from lightgbm) (1.4.1)\n",
            "Requirement already satisfied: scikit-learn in /usr/local/lib/python3.7/dist-packages (from lightgbm) (1.0.2)\n",
            "Requirement already satisfied: numpy in /usr/local/lib/python3.7/dist-packages (from lightgbm) (1.21.5)\n",
            "Requirement already satisfied: threadpoolctl>=2.0.0 in /usr/local/lib/python3.7/dist-packages (from scikit-learn->lightgbm) (3.1.0)\n",
            "Requirement already satisfied: joblib>=0.11 in /usr/local/lib/python3.7/dist-packages (from scikit-learn->lightgbm) (1.1.0)\n",
            "Requirement already satisfied: xgboost in /usr/local/lib/python3.7/dist-packages (0.90)\n",
            "Requirement already satisfied: scipy in /usr/local/lib/python3.7/dist-packages (from xgboost) (1.4.1)\n",
            "Requirement already satisfied: numpy in /usr/local/lib/python3.7/dist-packages (from xgboost) (1.21.5)\n",
            "Collecting catboost\n",
            "  Downloading catboost-1.0.5-cp37-none-manylinux1_x86_64.whl (76.6 MB)\n",
            "\u001b[K     |████████████████████████████████| 76.6 MB 1.2 MB/s \n",
            "\u001b[?25hRequirement already satisfied: numpy>=1.16.0 in /usr/local/lib/python3.7/dist-packages (from catboost) (1.21.5)\n",
            "Requirement already satisfied: scipy in /usr/local/lib/python3.7/dist-packages (from catboost) (1.4.1)\n",
            "Requirement already satisfied: graphviz in /usr/local/lib/python3.7/dist-packages (from catboost) (0.10.1)\n",
            "Requirement already satisfied: matplotlib in /usr/local/lib/python3.7/dist-packages (from catboost) (3.2.2)\n",
            "Requirement already satisfied: six in /usr/local/lib/python3.7/dist-packages (from catboost) (1.15.0)\n",
            "Requirement already satisfied: plotly in /usr/local/lib/python3.7/dist-packages (from catboost) (5.5.0)\n",
            "Requirement already satisfied: pandas>=0.24.0 in /usr/local/lib/python3.7/dist-packages (from catboost) (1.3.5)\n",
            "Requirement already satisfied: python-dateutil>=2.7.3 in /usr/local/lib/python3.7/dist-packages (from pandas>=0.24.0->catboost) (2.8.2)\n",
            "Requirement already satisfied: pytz>=2017.3 in /usr/local/lib/python3.7/dist-packages (from pandas>=0.24.0->catboost) (2018.9)\n",
            "Requirement already satisfied: pyparsing!=2.0.4,!=2.1.2,!=2.1.6,>=2.0.1 in /usr/local/lib/python3.7/dist-packages (from matplotlib->catboost) (3.0.8)\n",
            "Requirement already satisfied: kiwisolver>=1.0.1 in /usr/local/lib/python3.7/dist-packages (from matplotlib->catboost) (1.4.2)\n",
            "Requirement already satisfied: cycler>=0.10 in /usr/local/lib/python3.7/dist-packages (from matplotlib->catboost) (0.11.0)\n",
            "Requirement already satisfied: typing-extensions in /usr/local/lib/python3.7/dist-packages (from kiwisolver>=1.0.1->matplotlib->catboost) (4.1.1)\n",
            "Requirement already satisfied: tenacity>=6.2.0 in /usr/local/lib/python3.7/dist-packages (from plotly->catboost) (8.0.1)\n",
            "Installing collected packages: catboost\n",
            "Successfully installed catboost-1.0.5\n"
          ]
        },
        {
          "output_type": "stream",
          "name": "stderr",
          "text": [
            "/usr/local/lib/python3.7/dist-packages/sklearn/experimental/enable_hist_gradient_boosting.py:17: UserWarning: Since version 1.0, it is not needed to import enable_hist_gradient_boosting anymore. HistGradientBoostingClassifier and HistGradientBoostingRegressor are now stable and can be normally imported from sklearn.ensemble.\n",
            "  \"Since version 1.0, \"\n"
          ]
        }
      ]
    },
    {
      "cell_type": "markdown",
      "source": [
        "## Data utility, only need to use once to preprocess tiff images to png format"
      ],
      "metadata": {
        "id": "7HGHsLxUDFBs"
      }
    },
    {
      "cell_type": "code",
      "metadata": {
        "id": "4gBvGSTyWVal",
        "colab": {
          "base_uri": "https://localhost:8080/"
        },
        "outputId": "17ed9763-ed1e-4e47-e8fa-14fe67a0ff3e"
      },
      "source": [
        "%%time\n",
        "zf = zipfile.ZipFile('/content/drive/MyDrive/ML course 2022/rawImages.zip')\n",
        "def unzip(file):\n",
        "    zf.extract(file)\n",
        "with concurrent.futures.ProcessPoolExecutor() as executor:\n",
        "    executor.map(unzip, zf.infolist())"
      ],
      "execution_count": null,
      "outputs": [
        {
          "output_type": "stream",
          "name": "stdout",
          "text": [
            "CPU times: user 14 s, sys: 1.32 s, total: 15.3 s\n",
            "Wall time: 5min 4s\n"
          ]
        }
      ]
    },
    {
      "cell_type": "code",
      "source": [
        "drive.flush_and_unmount()"
      ],
      "metadata": {
        "id": "w2_bOmSTXBWJ"
      },
      "execution_count": null,
      "outputs": []
    },
    {
      "cell_type": "code",
      "source": [
        "for i in range(len(level1_images_train)):\n",
        "  img = cv2.imread(level1_images_train[i])\n",
        "  if img is None:\n",
        "    continue\n",
        "  img = cv2.imread(level1_images_train[i])\n",
        "  cv2.imwrite('/content/drive/MyDrive/ML course 2022_Team BNL/level1/%s.jpeg' %level1_images_train[i].split('/')[-1][:-5], img)"
      ],
      "metadata": {
        "id": "ZI-UkeGLhNAJ"
      },
      "execution_count": null,
      "outputs": []
    },
    {
      "cell_type": "code",
      "source": [
        "import shutil\n",
        "for i in range(len(level1_images_train)):\n",
        "  shutil.copy(level1_images_train[i], \"/content/drive/MyDrive/ML course 2022_Team BNL/level1_png/%s\" %level1_images_train[i].split(\"/\")[-1])"
      ],
      "metadata": {
        "id": "6rPFHrr7PYJt"
      },
      "execution_count": null,
      "outputs": []
    },
    {
      "cell_type": "code",
      "source": [
        "# the snippet that I use to create the jpegs of the high pass filtered images\n",
        "pixel_std_values = np.zeros((len(train_images_directory_select)))\n",
        "for i in range(train_images_directory_select.shape[0]):\n",
        "    im = cv2.imread(train_images_directory_select[i])                                                       # high pass filter then grayscale then standard deviation of all pixel values\n",
        "    high_pass_image = cv2.cvtColor(ndimage.gaussian_filter(im, 63) - im, cv2.COLOR_BGR2GRAY)\n",
        "    # pixel_std_values[i] = np.std(high_pass_image)\n",
        "    cv2.imwrite('/content/drive/MyDrive/ML course 2022_Team BNL/level2_kernel63/%s.jpeg' %train_images_directory_select[i].split('/')[-1][:-5], high_pass_image)\n",
        "# plt.scatter(labels, pixel_std_values)\n",
        "# plt.xlabel('true_focal_distance')\n",
        "# plt.ylabel('std value')"
      ],
      "metadata": {
        "id": "IDRwnLu2M-7p"
      },
      "execution_count": null,
      "outputs": []
    },
    {
      "cell_type": "markdown",
      "metadata": {
        "id": "UUFlGxuJgBX9"
      },
      "source": [
        "## Dataset gathering and preparation"
      ]
    },
    {
      "cell_type": "code",
      "source": [
        "%cd /content/drive/MyDrive/ML\\ course\\ 2022_Team\\ BNL"
      ],
      "metadata": {
        "colab": {
          "base_uri": "https://localhost:8080/"
        },
        "id": "FI3eYn0fSoLO",
        "outputId": "977d93b7-757a-41ee-a365-cc4781db62fb"
      },
      "execution_count": null,
      "outputs": [
        {
          "output_type": "stream",
          "name": "stdout",
          "text": [
            "/content/drive/MyDrive/ML course 2022_Team BNL\n"
          ]
        }
      ]
    },
    {
      "cell_type": "code",
      "metadata": {
        "id": "NA5y9EDOx5Lo"
      },
      "source": [
        "training_batch_size = 1\n",
        "test_batch_size = 1\n",
        "\n",
        "imageSizeheight=1200\n",
        "imageSizewidth=1920\n",
        "\n",
        "# imageSizeheight=300\n",
        "# imageSizewidth=480"
      ],
      "execution_count": null,
      "outputs": []
    },
    {
      "cell_type": "code",
      "source": [
        "# Image preprocessing utils\n",
        "@tf.function\n",
        "def parse_images(image_path):\n",
        "\n",
        "    image_string = tf.io.read_file(image_path)\n",
        "    image = tf.io.decode_jpeg(image_string, channels=3)\n",
        "    # image = tfio.experimental.image.decode_tiff(image_string, index=0, name=None)[:,:,:-1]   # in the doc, it transforms tiff to 4 channels, with additional channel of opacity which is not needed.\n",
        "    image = tf.image.convert_image_dtype(image, tf.float32)\n",
        "    image = tf.image.resize(image, size=[imageSizeheight, imageSizewidth])\n",
        "\n",
        "    return image"
      ],
      "metadata": {
        "id": "kS5wKfz7L8Dw"
      },
      "execution_count": null,
      "outputs": []
    },
    {
      "cell_type": "code",
      "source": [
        "level2_images = np.array(list(paths.list_files(\"/content/drive/MyDrive/ML course 2022_Team BNL/level2_kernel63\", validExts=\"jpeg\")))\n",
        "# train_images_directory_select = np.random.choice(level2_images_train, 6000, replace=False)\n",
        "\n",
        "labels = []                                                    # initialize labels\n",
        "positions = []\n",
        "\n",
        "for i in range(level2_images.shape[0]):\n",
        "  label = np.abs(float(level2_images[i].split(\"_\")[-1][4:-7].split(\"(\")[0]))               # individual label, can be put into absolute or not                                                 \n",
        "  labels.append(label)\n",
        "  position = level2_images[i].split(\"_\")[-3] + '_' + level2_images[i].split(\"_\")[-2]      # individual position\n",
        "  positions.append(position)\n",
        "labels = np.array(labels)\n",
        "positions = np.array(positions)\n",
        "\n",
        "# these test images are selected by our national lab mentor.\n",
        "test_positions = np.array(['ix000_iy004', 'ix000_iy009', 'ix001_iy007', 'ix003_iy013', 'ix006_iy003',\n",
        "                           'ix013_iy008', 'ix013_iy012', 'ix013_iy013', 'ix015_iy006', 'ix017_iy012',\n",
        "                           'ix017_iy013', 'ix019_iy000', 'ix019_iy011', 'ix020_iy007', 'ix020_iy011',\n",
        "                           'ix020_iy015', 'ix021_iy000', 'ix021_iy006', 'ix022_iy004', 'ix023_iy005', \n",
        "                           'ix023_iy014', 'ix023_iy015', 'ix025_iy015', 'ix028_iy005', 'ix031_iy007',\n",
        "                           'ix032_iy007', 'ix032_iy008', 'ix033_iy006', 'ix034_iy004', 'ix034_iy006',\n",
        "                           'ix034_iy012', 'ix034_iy013', 'ix034_iy014', 'ix035_iy009', 'ix035_iy015',\n",
        "                           'ix036_iy006', 'ix036_iy012', 'ix036_iy013', 'ix037_iy013', 'ix038_iy014',\n",
        "                           'ix039_iy004', 'ix039_iy009', 'ix039_iy013', 'ix040_iy006', 'ix040_iy013',\n",
        "                           'ix041_iy011', 'ix045_iy008', 'ix047_iy009', 'ix048_iy013', 'ix049_iy006',\n",
        "                           'ix049_iy012', 'ix051_iy009', 'ix051_iy010', 'ix053_iy002', 'ix053_iy010',\n",
        "                           'ix053_iy013', 'ix054_iy001', 'ix054_iy012'])\n",
        "\n",
        "test_images_directory_select = level2_images[np.where(np.isin(positions, test_positions) == True)[0]]\n",
        "train_images_directory_select = level2_images[np.where(np.isin(positions, test_positions) == False)[0]]\n",
        "test_label = labels[np.where(np.isin(positions, test_positions) == True)[0]]\n",
        "\n",
        "print(len(level2_images))\n",
        "print(len(train_images_directory_select))\n",
        "print(len(test_images_directory_select))"
      ],
      "metadata": {
        "id": "SxTbNP2acTfT",
        "colab": {
          "base_uri": "https://localhost:8080/"
        },
        "outputId": "c684359a-e9f8-4cd0-a960-d0243f1c0583"
      },
      "execution_count": null,
      "outputs": [
        {
          "output_type": "stream",
          "name": "stdout",
          "text": [
            "9462\n",
            "8829\n",
            "633\n"
          ]
        }
      ]
    },
    {
      "cell_type": "code",
      "source": [
        "labels = []                                                    # initialize labels\n",
        "positions = []\n",
        "\n",
        "for i in range(train_images_directory_select.shape[0]):\n",
        "  label = np.abs(float(train_images_directory_select[i].split(\"_\")[-1][4:-7].split(\"(\")[0]))               # individual label, can be put into absolute or not                                                 \n",
        "  labels.append(label)\n",
        "  position = train_images_directory_select[i].split(\"_\")[-3] + '_' + train_images_directory_select[i].split(\"_\")[-2]      # individual position\n",
        "  positions.append(position)\n",
        "labels = np.array(labels)\n",
        "positions = np.array(positions)                              # initialize the positions of the images, needed for record keeping"
      ],
      "metadata": {
        "id": "LyxlyglVWrPU"
      },
      "execution_count": null,
      "outputs": []
    },
    {
      "cell_type": "code",
      "source": [
        "edge_pixel_intensity_high_threshold = 0.50\n",
        "edge_pixel_intensity_low_threshold = 0.16\n",
        "edge_percentage_threshold = 0.02\n",
        "cap = 50\n",
        "\n",
        "infocus_images_coordinate = np.where(labels==0)[0]                                       # locations where the infocus images are\n",
        "edge_percentages = []\n",
        "valid = []\n",
        "for i in range(train_images_directory_select[infocus_images_coordinate].shape[0]):\n",
        "  edge_percentage = len(np.where((parse_images(train_images_directory_select[infocus_images_coordinate][i])[:,:,0]>=edge_pixel_intensity_high_threshold) \n",
        "                                  | (parse_images(train_images_directory_select[infocus_images_coordinate][i])[:,:,0]<=edge_pixel_intensity_low_threshold))[0]) / imageSizeheight / imageSizewidth\n",
        "  edge_percentages.append(edge_percentage)\n",
        "  if edge_percentage >= edge_percentage_threshold:                                                             # picking out infocus images where the area containing edges is smaller than a threshold value\n",
        "    valid.append(positions[infocus_images_coordinate][i])\n",
        "\n",
        "for i in range(len(valid)):\n",
        "  valid_position = np.where(positions==valid[i])[0]\n",
        "  if i == 0:\n",
        "    valid_positions = valid_position\n",
        "  else:\n",
        "    valid_positions = np.append(valid_positions, valid_position)\n",
        "\n",
        "valid_directories = train_images_directory_select[valid_positions]\n",
        "valid_labels = labels[valid_positions]\n",
        "# features = all_features_45_smooth3[valid_positions]\n",
        "\n",
        "capped_valid_labels = valid_labels[np.where((np.abs(valid_labels)<=cap) & (np.abs(valid_labels)>=0))[0]]                                # not include the focal distance larger than cap\n",
        "capped_valid_directories = valid_directories[np.where((np.abs(valid_labels)<=cap) & (np.abs(valid_labels)>=0))[0]]\n",
        "# features = features[np.where((np.abs(valid_labels)<=cap) & (np.abs(valid_labels)>=0))[0]]\n",
        "\n",
        "print(len(capped_valid_labels))"
      ],
      "metadata": {
        "id": "lZzVSXCIH0La",
        "colab": {
          "base_uri": "https://localhost:8080/"
        },
        "outputId": "4a3c864d-f2a3-4cb4-f1a6-95f742d4cd87"
      },
      "execution_count": null,
      "outputs": [
        {
          "output_type": "stream",
          "name": "stdout",
          "text": [
            "WARNING:tensorflow:5 out of the last 9 calls to <function parse_images at 0x7fad29805c20> triggered tf.function retracing. Tracing is expensive and the excessive number of tracings could be due to (1) creating @tf.function repeatedly in a loop, (2) passing tensors with different shapes, (3) passing Python objects instead of tensors. For (1), please define your @tf.function outside of the loop. For (2), @tf.function has experimental_relax_shapes=True option that relaxes argument shapes that can avoid unnecessary retracing. For (3), please refer to https://www.tensorflow.org/guide/function#controlling_retracing and https://www.tensorflow.org/api_docs/python/tf/function for  more details.\n",
            "WARNING:tensorflow:6 out of the last 11 calls to <function parse_images at 0x7fad29805c20> triggered tf.function retracing. Tracing is expensive and the excessive number of tracings could be due to (1) creating @tf.function repeatedly in a loop, (2) passing tensors with different shapes, (3) passing Python objects instead of tensors. For (1), please define your @tf.function outside of the loop. For (2), @tf.function has experimental_relax_shapes=True option that relaxes argument shapes that can avoid unnecessary retracing. For (3), please refer to https://www.tensorflow.org/guide/function#controlling_retracing and https://www.tensorflow.org/api_docs/python/tf/function for  more details.\n"
          ]
        }
      ]
    },
    {
      "cell_type": "markdown",
      "metadata": {
        "id": "2avjHJzRgBYS"
      },
      "source": [
        "## Initiate our cnn model"
      ]
    },
    {
      "cell_type": "code",
      "metadata": {
        "id": "XZwRlS-39B8y",
        "colab": {
          "base_uri": "https://localhost:8080/"
        },
        "outputId": "272c50a1-436a-4c1d-f71c-b4d3c2bd1134"
      },
      "source": [
        "Resnet50_transfer = tf.keras.applications.resnet50.ResNet50(\n",
        "    include_top=False,\n",
        "    weights=\"imagenet\",\n",
        "    # weights=None,\n",
        "    input_tensor=None,\n",
        "    input_shape=(imageSizeheight, imageSizewidth, 3), \n",
        "    pooling=None,\n",
        ")\n",
        "\n",
        "Resnet50_transfer.trainable = True"
      ],
      "execution_count": null,
      "outputs": [
        {
          "output_type": "stream",
          "name": "stdout",
          "text": [
            "Downloading data from https://storage.googleapis.com/tensorflow/keras-applications/resnet/resnet50_weights_tf_dim_ordering_tf_kernels_notop.h5\n",
            "94773248/94765736 [==============================] - 1s 0us/step\n",
            "94781440/94765736 [==============================] - 1s 0us/step\n"
          ]
        }
      ]
    },
    {
      "cell_type": "code",
      "metadata": {
        "id": "rqmu6yFSJwUz"
      },
      "source": [
        "Resnet50_transfer.trainable = False\n",
        "\n",
        "supervise_model = tf.keras.models.Sequential([\n",
        "    \n",
        "    Resnet50_transfer,\n",
        "    GlobalAveragePooling2D(),\n",
        "    # BatchNormalization(epsilon=0.1),\n",
        "    # Dense(64, activation='relu'),\n",
        "    # Dropout(0.5),\n",
        "    # BatchNormalization(epsilon=0.1),\n",
        "    # Dense(32, activation='relu'),\n",
        "    # Dropout(0.5),\n",
        "    # BatchNormalization(epsilon=0.1),\n",
        "    Dense(16, activation='relu'),\n",
        "    Dropout(0.5),\n",
        "    Dense(1)\n",
        "])"
      ],
      "execution_count": null,
      "outputs": []
    },
    {
      "cell_type": "code",
      "metadata": {
        "colab": {
          "base_uri": "https://localhost:8080/"
        },
        "id": "3UrBJxUZO9tM",
        "outputId": "e5fbf4ca-b541-4659-981a-51bbf8b9e847"
      },
      "source": [
        "# adam = tf.keras.optimizers.Adam(learning_rate=0.001)\n",
        "# sgd = tf.keras.optimizers.SGD(learning_rate=0.001)\n",
        "# metrics = ['mae'\n",
        "#                 ]\n",
        "# supervise_model.compile(loss = 'mse', optimizer = adam, metrics = metrics)\n",
        "# supervise_model.summary()"
      ],
      "execution_count": null,
      "outputs": [
        {
          "output_type": "stream",
          "name": "stdout",
          "text": [
            "Model: \"sequential\"\n",
            "_________________________________________________________________\n",
            " Layer (type)                Output Shape              Param #   \n",
            "=================================================================\n",
            " resnet50 (Functional)       (None, 38, 60, 2048)      23587712  \n",
            "                                                                 \n",
            " global_average_pooling2d (G  (None, 2048)             0         \n",
            " lobalAveragePooling2D)                                          \n",
            "                                                                 \n",
            " dense (Dense)               (None, 16)                32784     \n",
            "                                                                 \n",
            " dropout (Dropout)           (None, 16)                0         \n",
            "                                                                 \n",
            " dense_1 (Dense)             (None, 1)                 17        \n",
            "                                                                 \n",
            "=================================================================\n",
            "Total params: 23,620,513\n",
            "Trainable params: 32,801\n",
            "Non-trainable params: 23,587,712\n",
            "_________________________________________________________________\n"
          ]
        }
      ]
    },
    {
      "cell_type": "code",
      "source": [
        "# cnn feature extraction in segments so as to avoid OOM problem, that we encountered with image set size larger than 1000.\n",
        "feature_extractor = Model(supervise_model.input, supervise_model.layers[-4].output)\n",
        "n_segments = len(test_images_directory_select) // 500 + 1\n",
        "for i in range(n_segments):\n",
        "  if i == 0:\n",
        "    test_ds = tf.data.Dataset.from_tensor_slices(test_images_directory_select[:(i + 1) * 500])\n",
        "    test_ds = (\n",
        "        test_ds\n",
        "        .map(parse_images, num_parallel_calls=tf.data.experimental.AUTOTUNE)\n",
        "        .batch(training_batch_size\n",
        "              #  , drop_remainder=True\n",
        "              )\n",
        "        .prefetch(tf.data.experimental.AUTOTUNE)\n",
        "    )\n",
        "\n",
        "    features_test = feature_extractor.predict(test_ds)\n",
        "\n",
        "  else:\n",
        "    test_ds = tf.data.Dataset.from_tensor_slices(test_images_directory_select[i * 500 :(i + 1) * 500])\n",
        "    test_ds = (\n",
        "        test_ds\n",
        "        .map(parse_images, num_parallel_calls=tf.data.experimental.AUTOTUNE)\n",
        "        .batch(training_batch_size\n",
        "              #  , drop_remainder=True\n",
        "              )\n",
        "        .prefetch(tf.data.experimental.AUTOTUNE)\n",
        "    )\n",
        "\n",
        "    features_test = np.append(features_test, feature_extractor.predict(test_ds), axis=0)\n",
        "# np.savez_compressed('performance_log/level2/feature_map.npz', feature_map=features)"
      ],
      "metadata": {
        "id": "xWFXPiBvIXWc"
      },
      "execution_count": null,
      "outputs": []
    },
    {
      "cell_type": "code",
      "source": [
        "n_segments = len(labels) // 500 + 1\n",
        "for i in range(n_segments):\n",
        "  if i == 0:\n",
        "    train_ds = tf.data.Dataset.from_tensor_slices(train_images_directory_select[:(i + 1) * 500])\n",
        "    train_ds = (\n",
        "        train_ds\n",
        "        .map(parse_images, num_parallel_calls=tf.data.experimental.AUTOTUNE)\n",
        "        .batch(training_batch_size\n",
        "              #  , drop_remainder=True\n",
        "              )\n",
        "        .prefetch(tf.data.experimental.AUTOTUNE)\n",
        "    )\n",
        "\n",
        "    features_train = feature_extractor.predict(train_ds)\n",
        "\n",
        "  else:\n",
        "    train_ds = tf.data.Dataset.from_tensor_slices(train_images_directory_select[i * 500 :(i + 1) * 500])\n",
        "    train_ds = (\n",
        "        train_ds\n",
        "        .map(parse_images, num_parallel_calls=tf.data.experimental.AUTOTUNE)\n",
        "        .batch(training_batch_size\n",
        "              #  , drop_remainder=True\n",
        "              )\n",
        "        .prefetch(tf.data.experimental.AUTOTUNE)\n",
        "    )\n",
        "\n",
        "    features_train = np.append(features_train, feature_extractor.predict(train_ds), axis=0)"
      ],
      "metadata": {
        "id": "bTmxPNyGGtE5"
      },
      "execution_count": null,
      "outputs": []
    },
    {
      "cell_type": "code",
      "source": [
        "rf_regressor = randomforest(max_depth=8)\n",
        "# features_train, features_test, train_label, test_label = train_test_split(features, capped_valid_labels, test_size=0.2, random_state=42)\n",
        "rf_regressor.fit(features_train, labels)\n",
        "y_pred_rf = rf_regressor.predict(features_test)"
      ],
      "metadata": {
        "id": "fzJkQaeLmOws"
      },
      "execution_count": null,
      "outputs": []
    },
    {
      "cell_type": "code",
      "source": [
        "print('rf prediction r2_score = %f' % r2_score(y_pred_rf, test_label))\n",
        "print('rf prediction mean_absolute_error = %f' % mean_absolute_error(y_pred_rf, test_label))\n",
        "plt.scatter(test_label, y_pred_rf)\n",
        "plt.plot(np.linspace(0, 50, 150), np.linspace(0, 50, 150), c='r')\n",
        "plt.xlabel('true_distance [$\\mu m$]')\n",
        "plt.ylabel('predicted_distance [$\\mu m$]')"
      ],
      "metadata": {
        "id": "2r9xflCopvi7",
        "colab": {
          "base_uri": "https://localhost:8080/",
          "height": 336
        },
        "outputId": "a4adc58e-37e7-4b67-d41f-8acf829e7e82"
      },
      "execution_count": null,
      "outputs": [
        {
          "output_type": "stream",
          "name": "stdout",
          "text": [
            "rf prediction r2_score = -1.589458\n",
            "rf prediction mean_absolute_error = 10.484263\n"
          ]
        },
        {
          "output_type": "execute_result",
          "data": {
            "text/plain": [
              "Text(0, 0.5, 'predicted_distance [$\\\\mu m$]')"
            ]
          },
          "metadata": {},
          "execution_count": 28
        },
        {
          "output_type": "display_data",
          "data": {
            "text/plain": [
              "<Figure size 432x288 with 1 Axes>"
            ],
            "image/png": "[encoded data removed]"
          },
          "metadata": {
            "needs_background": "light"
          }
        }
      ]
    },
    {
      "cell_type": "code",
      "source": [
        "depth = np.array([8, 16])\n",
        "lr = np.linspace(0.01, 0.20, 21)\n",
        "performance = np.zeros((len(depth), len(lr), 2))\n",
        "\n",
        "# features_train, features_test, train_label, test_label = train_test_split(features, capped_valid_labels, test_size=0.2, random_state=42)\n",
        "\n",
        "for i in range(len(depth)):\n",
        "  for j in range(len(lr)):\n",
        "    xg_boost_regressor = xgb(max_depth=depth[i], learning_rate=lr[j], tree_method='gpu_hist', objective='reg:squarederror')         # don't go beyond max_depth of 16, session will crash due to OOM\n",
        "    xg_boost_regressor.fit(features_train, labels)\n",
        "    y_pred_xg = xg_boost_regressor.predict(features_test)\n",
        "    performance[i, j, 0] = r2_score(y_pred_xg, test_label)\n",
        "    performance[i, j, 1] = mean_absolute_error(y_pred_xg, test_label)"
      ],
      "metadata": {
        "id": "AdYo-abHPiLE"
      },
      "execution_count": null,
      "outputs": []
    },
    {
      "cell_type": "code",
      "source": [
        "xg_boost_regressor = xgb(max_depth=depth[np.where(performance == np.min(performance[:, :, 1]))[0][0]], learning_rate=lr[np.where(performance == np.min(performance[:, :, 1]))[1][0]], tree_method='gpu_hist', objective='reg:squarederror')         # don't go beyond max_depth of 16, session will crash due to OOM\n",
        "xg_boost_regressor.fit(features_train, labels)\n",
        "y_pred_xg = xg_boost_regressor.predict(features_test)\n",
        "print('rf prediction r2_score = %f' % r2_score(y_pred_xg, test_label))\n",
        "print('rf prediction mean_absolute_error = %f' % mean_absolute_error(y_pred_xg, test_label))\n",
        "plt.scatter(test_label, y_pred_xg)\n",
        "plt.plot(np.linspace(0, 50, 150), np.linspace(0, 50, 150), c='r')\n",
        "plt.xlabel('true_distance [$\\mu m$]')\n",
        "plt.ylabel('predicted_distance [$\\mu m$]')"
      ],
      "metadata": {
        "id": "uEAkomB9EAnc",
        "colab": {
          "base_uri": "https://localhost:8080/",
          "height": 336
        },
        "outputId": "42e0385b-32cd-41a7-f0a2-3f2cb68725bc"
      },
      "execution_count": null,
      "outputs": [
        {
          "output_type": "stream",
          "name": "stdout",
          "text": [
            "rf prediction r2_score = -0.446161\n",
            "rf prediction mean_absolute_error = 9.632187\n"
          ]
        },
        {
          "output_type": "execute_result",
          "data": {
            "text/plain": [
              "Text(0, 0.5, 'predicted_distance [$\\\\mu m$]')"
            ]
          },
          "metadata": {},
          "execution_count": 27
        },
        {
          "output_type": "display_data",
          "data": {
            "text/plain": [
              "<Figure size 432x288 with 1 Axes>"
            ],
            "image/png": "[encoded data removed]"
          },
          "metadata": {
            "needs_background": "light"
          }
        }
      ]
    },
    {
      "cell_type": "code",
      "source": [
        "plt.scatter(lr[2:], performance[0, 2:, 1])\n",
        "plt.scatter(lr[2:], performance[1, 2:, 1])"
      ],
      "metadata": {
        "id": "Letq_aOJi6en",
        "colab": {
          "base_uri": "https://localhost:8080/",
          "height": 282
        },
        "outputId": "38d1ef06-b5ee-4869-fb7f-835b8738a068"
      },
      "execution_count": null,
      "outputs": [
        {
          "output_type": "execute_result",
          "data": {
            "text/plain": [
              "<matplotlib.collections.PathCollection at 0x7f87ee54fd50>"
            ]
          },
          "metadata": {},
          "execution_count": 25
        },
        {
          "output_type": "display_data",
          "data": {
            "text/plain": [
              "<Figure size 432x288 with 1 Axes>"
            ],
            "image/png": "[encoded data removed]"
          },
          "metadata": {
            "needs_background": "light"
          }
        }
      ]
    },
    {
      "cell_type": "markdown",
      "source": [
        "kernel 63\n",
        "r2 scores    (mae are between 5 and 8)\n",
        "\n",
        "0.10: rf: 0.60, xgb: 0.85    ~ 132 images\n",
        "\n",
        "0.08: rf: 0.48, xgb: 0.70    ~ 230 images\n",
        "\n",
        "0.05: rf: 0.16, xgb: 0.60    ~ 532 images\n",
        "\n",
        "0.04: rf: 0.19, xgb: 0.55    ~ 884 images\n",
        "\n",
        "kernel 45\n",
        "r2 scores    (mae are between 5 and 8)\n",
        "\n",
        "0.10: rf: 0.69, xgb: 0.73    ~ 132 images\n",
        "\n",
        "0.08: rf: 0.67, xgb: 0.73    ~ 230 images\n",
        "\n",
        "0.05: rf: 0.44, xgb: 0.64    ~ 422 images\n",
        "\n",
        "0.04: rf: 0.44, xgb: 0.67    ~ 763 images\n",
        "\n",
        "kernel 33\n",
        "r2 scores    (mae are between 5 and 8)\n",
        "\n",
        "0.10: rf: 0.69, xgb: 0.73    ~ 132 images\n",
        "\n",
        "0.08: rf: 0.67, xgb: 0.73    ~ 230 images\n",
        "\n",
        "0.05: rf: 0.44, xgb: 0.64    ~ 422 images\n",
        "\n",
        "0.04: rf: 0.44, xgb: 0.67    ~ 763 images"
      ],
      "metadata": {
        "id": "KLCvsqlQp7eZ"
      }
    },
    {
      "cell_type": "code",
      "source": [
        "print('xgboost prediction r2_score = %f' % r2_score(y_pred_xg, test_label))\n",
        "print('xgboost prediction mean_absolute_error = %f' % mean_absolute_error(y_pred_xg, test_label))\n",
        "plt.scatter(test_label, y_pred_xg)\n",
        "# plt.plot(np.linspace(0, cap, 150), np.linspace(0, cap, 150), c='r')\n",
        "plt.xlabel('true_distance [$\\mu m$]')\n",
        "plt.ylabel('predicted_distance [$\\mu m$]')"
      ],
      "metadata": {
        "colab": {
          "base_uri": "https://localhost:8080/",
          "height": 336
        },
        "id": "t1RUSk4sPkNs",
        "outputId": "e6b6ed29-9c08-4ddc-c715-0300a3e89f23"
      },
      "execution_count": null,
      "outputs": [
        {
          "output_type": "stream",
          "name": "stdout",
          "text": [
            "xgboost prediction r2_score = 0.709779\n",
            "xgboost prediction mean_absolute_error = 5.498775\n"
          ]
        },
        {
          "output_type": "execute_result",
          "data": {
            "text/plain": [
              "Text(0, 0.5, 'predicted_distance [$\\\\mu m$]')"
            ]
          },
          "metadata": {},
          "execution_count": 20
        },
        {
          "output_type": "display_data",
          "data": {
            "text/plain": [
              "<Figure size 432x288 with 1 Axes>"
            ],
            "image/png": "[encoded data removed]"
          },
          "metadata": {
            "needs_background": "light"
          }
        }
      ]
    }
  ]
}